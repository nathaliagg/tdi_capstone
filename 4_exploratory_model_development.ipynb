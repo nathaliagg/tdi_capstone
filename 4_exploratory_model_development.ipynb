{
 "cells": [
  {
   "cell_type": "markdown",
   "id": "automotive-signature",
   "metadata": {},
   "source": [
    "# Import libraries"
   ]
  },
  {
   "cell_type": "code",
   "execution_count": 148,
   "id": "nominated-armor",
   "metadata": {},
   "outputs": [
    {
     "name": "stdout",
     "output_type": "stream",
     "text": [
      "Tensorflow version: 2.4.1\n",
      "Keras version: 2.4.0\n"
     ]
    }
   ],
   "source": [
    "%config Completer.use_jedi = False\n",
    "import glob\n",
    "import os\n",
    "import cv2\n",
    "from natsort import natsorted\n",
    "import matplotlib.pyplot as plt\n",
    "import numpy as np\n",
    "import pandas as pd\n",
    "import tensorflow as tf\n",
    "from tensorflow import keras\n",
    "\n",
    "print(f\"Tensorflow version: {tf.__version__}\")\n",
    "print(f\"Keras version: {keras.__version__}\")"
   ]
  },
  {
   "cell_type": "markdown",
   "id": "serious-chess",
   "metadata": {},
   "source": [
    "# Get path to images and masks into a list"
   ]
  },
  {
   "cell_type": "code",
   "execution_count": 88,
   "id": "christian-bowling",
   "metadata": {
    "code_folding": [
     0
    ]
   },
   "outputs": [],
   "source": [
    "def load_data(img_type, dir_path):\n",
    "    \"\"\" Glob filenames and add them to a list.\n",
    "    Provide img_type == 'image' (*.jpg) or 'mask' (*.png). \n",
    "    *_x contains images and *_y contains masks \"\"\"\n",
    "    \n",
    "    suffix = ''\n",
    "    \n",
    "    if img_type == 'image':\n",
    "        suffix = '.jpg'\n",
    "    else:\n",
    "        suffix = '.png'\n",
    "    \n",
    "    \n",
    "    list_files = natsorted(glob.glob(dir_path+'/*'+suffix))\n",
    "    \n",
    "    return list_files"
   ]
  },
  {
   "cell_type": "code",
   "execution_count": 153,
   "id": "outstanding-delaware",
   "metadata": {},
   "outputs": [
    {
     "name": "stdout",
     "output_type": "stream",
     "text": [
      "Train images: 12901, Train masks: 12901, Val images: 4431, Val masks: 4431\n"
     ]
    }
   ],
   "source": [
    "dataset_path = 'partial_dataset/'\n",
    "\n",
    "train_masks = os.path.join(dataset_path, 'train', 'labels')\n",
    "train_images = os.path.join(dataset_path, 'train', 'images')\n",
    "train_x, train_y = load_data('image',\n",
    "                             train_images), load_data('mask', train_masks)\n",
    "\n",
    "val_masks = os.path.join(dataset_path, 'val', 'labels')\n",
    "val_images = os.path.join(dataset_path, 'val', 'images')\n",
    "val_x, val_y = load_data('image', val_images), load_data('mask', val_masks)\n",
    "\n",
    "print(\n",
    "    f\"Train images: {len(train_x)}, Train masks: {len(train_y)}, Val images: {len(val_x)}, Val masks: {len(val_y)}\"\n",
    ")"
   ]
  },
  {
   "cell_type": "code",
   "execution_count": 149,
   "id": "sunset-treat",
   "metadata": {},
   "outputs": [],
   "source": [
    "from sklearn.model_selection import train_test_split"
   ]
  },
  {
   "cell_type": "code",
   "execution_count": 154,
   "id": "valued-adjustment",
   "metadata": {},
   "outputs": [
    {
     "name": "stdout",
     "output_type": "stream",
     "text": [
      "Train images: 3101, Train masks: 3101, Val images: 1330, Val masks: 1330\n"
     ]
    }
   ],
   "source": [
    "train_x, val_x = train_test_split(val_x, test_size=0.3, random_state=88)\n",
    "train_y, val_y = train_test_split(val_y, test_size=0.3, random_state=88)\n",
    "print(\n",
    "    f\"Train images: {len(train_x)}, Train masks: {len(train_y)}, Val images: {len(val_x)}, Val masks: {len(val_y)}\"\n",
    ")"
   ]
  },
  {
   "cell_type": "markdown",
   "id": "graduate-involvement",
   "metadata": {},
   "source": [
    "# Make a `tf` dataset"
   ]
  },
  {
   "cell_type": "code",
   "execution_count": 155,
   "id": "statistical-declaration",
   "metadata": {
    "code_folding": [
     3,
     17,
     30,
     49
    ]
   },
   "outputs": [],
   "source": [
    "H, W = 256, 256\n",
    "\n",
    "# ------------------------------------------------------------------------------\n",
    "def read_image(data_x):\n",
    "    \"\"\"Read path of image.\n",
    "    data_x ==  *_x\n",
    "    \"\"\"\n",
    "\n",
    "    x = cv2.imread(data_x, cv2.IMREAD_COLOR)\n",
    "    x = cv2.resize(x, (W, H))\n",
    "    x = x / 255.0\n",
    "    x = x.astype(np.float32)\n",
    "    \n",
    "    return x\n",
    "\n",
    "\n",
    "# ------------------------------------------------------------------------------\n",
    "def read_mask(data_y):\n",
    "    \"\"\"Read path of mask.\n",
    "    data_y == *_y\n",
    "    \"\"\"\n",
    "    y = cv2.imread(data_y, cv2.IMREAD_GRAYSCALE)\n",
    "    y = cv2.resize(y, (H, W))\n",
    "    y = y - 1\n",
    "    y = y.astype(np.int32)\n",
    "    \n",
    "    return y\n",
    "\n",
    "\n",
    "# ------------------------------------------------------------------------------\n",
    "def preprocess(x, y):\n",
    "    def f(x, y):\n",
    "        x = x.decode()\n",
    "        y = y.decode()\n",
    "\n",
    "        image = read_image(x)\n",
    "        mask = read_mask(y)\n",
    "\n",
    "        return image, mask\n",
    "\n",
    "    image, mask = tf.numpy_function(f, [x, y], [tf.float32, tf.int32])\n",
    "    mask = tf.one_hot(mask, 3, dtype=tf.int32)\n",
    "    image.set_shape([H, W, 3])\n",
    "    mask.set_shape([H, W, 3])\n",
    "\n",
    "    return image, mask\n",
    "\n",
    "\n",
    "# ------------------------------------------------------------------------------\n",
    "def make_tf_dataset(x, y, batch=8):\n",
    "    \"\"\"Make tensorflow dataset.\n",
    "    \"\"\"\n",
    "    dataset = tf.data.Dataset.from_tensor_slices((x, y))\n",
    "    dataset = dataset.shuffle(buffer_size=5000)\n",
    "    dataset = dataset.map(preprocess)\n",
    "    dataset = dataset.batch(batch)\n",
    "    dataset = dataset.repeat()\n",
    "    dataset = dataset.prefetch(2)\n",
    "\n",
    "    return dataset\n",
    "\n",
    "\n",
    "# ------------------------------------------------------------------------------"
   ]
  },
  {
   "cell_type": "code",
   "execution_count": 156,
   "id": "artistic-auckland",
   "metadata": {},
   "outputs": [],
   "source": [
    "batch_size=8\n",
    "train_dataset = make_tf_dataset(train_x, train_y, batch=batch_size)\n",
    "val_dataset = make_tf_dataset(val_x, val_y, batch=batch_size)"
   ]
  },
  {
   "cell_type": "code",
   "execution_count": 157,
   "id": "intimate-devil",
   "metadata": {},
   "outputs": [
    {
     "data": {
      "text/plain": [
       "<PrefetchDataset shapes: ((None, 256, 256, 3), (None, 256, 256, 3)), types: (tf.float32, tf.int32)>"
      ]
     },
     "execution_count": 157,
     "metadata": {},
     "output_type": "execute_result"
    }
   ],
   "source": [
    "train_dataset"
   ]
  },
  {
   "cell_type": "code",
   "execution_count": 158,
   "id": "challenging-banks",
   "metadata": {},
   "outputs": [
    {
     "data": {
      "text/plain": [
       "<PrefetchDataset shapes: ((None, 256, 256, 3), (None, 256, 256, 3)), types: (tf.float32, tf.int32)>"
      ]
     },
     "execution_count": 158,
     "metadata": {},
     "output_type": "execute_result"
    }
   ],
   "source": [
    "val_dataset"
   ]
  },
  {
   "cell_type": "markdown",
   "id": "uniform-battery",
   "metadata": {},
   "source": [
    "# Build a U-NET Image Segmentation Model"
   ]
  },
  {
   "cell_type": "code",
   "execution_count": 159,
   "id": "serious-absorption",
   "metadata": {},
   "outputs": [],
   "source": [
    "from tensorflow.keras.layers import Input\n",
    "from tensorflow.keras.layers import Conv2D\n",
    "from tensorflow.keras.layers import BatchNormalization\n",
    "from tensorflow.keras.layers import Activation\n",
    "from tensorflow.keras.layers import MaxPool2D\n",
    "from tensorflow.keras.layers import UpSampling2D\n",
    "from tensorflow.keras.layers import Concatenate\n",
    "from tensorflow.keras.models import Model"
   ]
  },
  {
   "cell_type": "code",
   "execution_count": 160,
   "id": "ideal-panel",
   "metadata": {
    "code_folding": [
     1,
     18
    ]
   },
   "outputs": [],
   "source": [
    "# ------------------------------------------------------------------------------\n",
    "def conv_block(inputs, filters, pool=True):\n",
    "    x = Conv2D(filters, 3, padding=\"same\")(inputs)\n",
    "    x = BatchNormalization()(x)\n",
    "    x = Activation(\"relu\")(x)\n",
    "\n",
    "    x = Conv2D(filters, 3, padding='same')(x)\n",
    "    x = BatchNormalization()(x)\n",
    "    x = Activation(\"relu\")(x)\n",
    "\n",
    "    if pool == True:\n",
    "        p = MaxPool2D((2, 2))(x)\n",
    "        return x, p\n",
    "    else:\n",
    "        return x\n",
    "\n",
    "\n",
    "# ------------------------------------------------------------------------------\n",
    "def build_unet(shape, num_classes):\n",
    "    inputs = Input(shape)\n",
    "\n",
    "    \"\"\"Encoder\"\"\"\n",
    "    x1, p1 = conv_block(inputs, 16, pool=True)\n",
    "    x2, p2 = conv_block(p1, 32, pool=True)\n",
    "    x3, p3 = conv_block(p2, 48, pool=True)\n",
    "    x4, p4 = conv_block(p3, 64, pool=True)\n",
    "\n",
    "    \"\"\"Bridge\"\"\"\n",
    "    b1 = conv_block(p4, 128, pool=False)\n",
    "\n",
    "    \"\"\"Decoder\"\"\"\n",
    "    u1 = UpSampling2D((2,2), interpolation=\"bilinear\")(b1)\n",
    "    # print(u1.shape, x4.shape)\n",
    "    c1 = Concatenate()([u1, x4])\n",
    "    x5 = conv_block(c1, 64, pool=False)\n",
    "\n",
    "    u2 = UpSampling2D((2,2), interpolation=\"bilinear\")(x5)\n",
    "    c2 = Concatenate()([u2, x3])\n",
    "    x6 = conv_block(c2, 48, pool=False)\n",
    "\n",
    "    u3 = UpSampling2D((2,2), interpolation=\"bilinear\")(x6)\n",
    "    c3 = Concatenate()([u3, x2])\n",
    "    x7 = conv_block(c3, 32, pool=False)\n",
    "\n",
    "    u4 = UpSampling2D((2,2), interpolation=\"bilinear\")(x7)\n",
    "    c4 = Concatenate()([u4, x1])\n",
    "    x8 = conv_block(c4, 16, pool=False)\n",
    "\n",
    "    \"\"\"Output layer\"\"\"\n",
    "    output = Conv2D(num_classes, 1, padding=\"same\", activation=\"softmax\")(x8)\n",
    "\n",
    "    return Model(inputs, output)\n",
    "\n",
    "\n",
    "# ------------------------------------------------------------------------------"
   ]
  },
  {
   "cell_type": "code",
   "execution_count": 161,
   "id": "brazilian-complement",
   "metadata": {
    "collapsed": true
   },
   "outputs": [
    {
     "name": "stdout",
     "output_type": "stream",
     "text": [
      "Model: \"model_33\"\n",
      "__________________________________________________________________________________________________\n",
      "Layer (type)                    Output Shape         Param #     Connected to                     \n",
      "==================================================================================================\n",
      "input_34 (InputLayer)           [(None, 256, 256, 3) 0                                            \n",
      "__________________________________________________________________________________________________\n",
      "conv2d_627 (Conv2D)             (None, 256, 256, 16) 448         input_34[0][0]                   \n",
      "__________________________________________________________________________________________________\n",
      "batch_normalization_594 (BatchN (None, 256, 256, 16) 64          conv2d_627[0][0]                 \n",
      "__________________________________________________________________________________________________\n",
      "activation_594 (Activation)     (None, 256, 256, 16) 0           batch_normalization_594[0][0]    \n",
      "__________________________________________________________________________________________________\n",
      "conv2d_628 (Conv2D)             (None, 256, 256, 16) 2320        activation_594[0][0]             \n",
      "__________________________________________________________________________________________________\n",
      "batch_normalization_595 (BatchN (None, 256, 256, 16) 64          conv2d_628[0][0]                 \n",
      "__________________________________________________________________________________________________\n",
      "activation_595 (Activation)     (None, 256, 256, 16) 0           batch_normalization_595[0][0]    \n",
      "__________________________________________________________________________________________________\n",
      "max_pooling2d_132 (MaxPooling2D (None, 128, 128, 16) 0           activation_595[0][0]             \n",
      "__________________________________________________________________________________________________\n",
      "conv2d_629 (Conv2D)             (None, 128, 128, 32) 4640        max_pooling2d_132[0][0]          \n",
      "__________________________________________________________________________________________________\n",
      "batch_normalization_596 (BatchN (None, 128, 128, 32) 128         conv2d_629[0][0]                 \n",
      "__________________________________________________________________________________________________\n",
      "activation_596 (Activation)     (None, 128, 128, 32) 0           batch_normalization_596[0][0]    \n",
      "__________________________________________________________________________________________________\n",
      "conv2d_630 (Conv2D)             (None, 128, 128, 32) 9248        activation_596[0][0]             \n",
      "__________________________________________________________________________________________________\n",
      "batch_normalization_597 (BatchN (None, 128, 128, 32) 128         conv2d_630[0][0]                 \n",
      "__________________________________________________________________________________________________\n",
      "activation_597 (Activation)     (None, 128, 128, 32) 0           batch_normalization_597[0][0]    \n",
      "__________________________________________________________________________________________________\n",
      "max_pooling2d_133 (MaxPooling2D (None, 64, 64, 32)   0           activation_597[0][0]             \n",
      "__________________________________________________________________________________________________\n",
      "conv2d_631 (Conv2D)             (None, 64, 64, 48)   13872       max_pooling2d_133[0][0]          \n",
      "__________________________________________________________________________________________________\n",
      "batch_normalization_598 (BatchN (None, 64, 64, 48)   192         conv2d_631[0][0]                 \n",
      "__________________________________________________________________________________________________\n",
      "activation_598 (Activation)     (None, 64, 64, 48)   0           batch_normalization_598[0][0]    \n",
      "__________________________________________________________________________________________________\n",
      "conv2d_632 (Conv2D)             (None, 64, 64, 48)   20784       activation_598[0][0]             \n",
      "__________________________________________________________________________________________________\n",
      "batch_normalization_599 (BatchN (None, 64, 64, 48)   192         conv2d_632[0][0]                 \n",
      "__________________________________________________________________________________________________\n",
      "activation_599 (Activation)     (None, 64, 64, 48)   0           batch_normalization_599[0][0]    \n",
      "__________________________________________________________________________________________________\n",
      "max_pooling2d_134 (MaxPooling2D (None, 32, 32, 48)   0           activation_599[0][0]             \n",
      "__________________________________________________________________________________________________\n",
      "conv2d_633 (Conv2D)             (None, 32, 32, 64)   27712       max_pooling2d_134[0][0]          \n",
      "__________________________________________________________________________________________________\n",
      "batch_normalization_600 (BatchN (None, 32, 32, 64)   256         conv2d_633[0][0]                 \n",
      "__________________________________________________________________________________________________\n",
      "activation_600 (Activation)     (None, 32, 32, 64)   0           batch_normalization_600[0][0]    \n",
      "__________________________________________________________________________________________________\n",
      "conv2d_634 (Conv2D)             (None, 32, 32, 64)   36928       activation_600[0][0]             \n",
      "__________________________________________________________________________________________________\n",
      "batch_normalization_601 (BatchN (None, 32, 32, 64)   256         conv2d_634[0][0]                 \n",
      "__________________________________________________________________________________________________\n",
      "activation_601 (Activation)     (None, 32, 32, 64)   0           batch_normalization_601[0][0]    \n",
      "__________________________________________________________________________________________________\n",
      "max_pooling2d_135 (MaxPooling2D (None, 16, 16, 64)   0           activation_601[0][0]             \n",
      "__________________________________________________________________________________________________\n",
      "conv2d_635 (Conv2D)             (None, 16, 16, 128)  73856       max_pooling2d_135[0][0]          \n",
      "__________________________________________________________________________________________________\n",
      "batch_normalization_602 (BatchN (None, 16, 16, 128)  512         conv2d_635[0][0]                 \n",
      "__________________________________________________________________________________________________\n",
      "activation_602 (Activation)     (None, 16, 16, 128)  0           batch_normalization_602[0][0]    \n",
      "__________________________________________________________________________________________________\n",
      "conv2d_636 (Conv2D)             (None, 16, 16, 128)  147584      activation_602[0][0]             \n",
      "__________________________________________________________________________________________________\n",
      "batch_normalization_603 (BatchN (None, 16, 16, 128)  512         conv2d_636[0][0]                 \n",
      "__________________________________________________________________________________________________\n",
      "activation_603 (Activation)     (None, 16, 16, 128)  0           batch_normalization_603[0][0]    \n",
      "__________________________________________________________________________________________________\n",
      "up_sampling2d_132 (UpSampling2D (None, 32, 32, 128)  0           activation_603[0][0]             \n",
      "__________________________________________________________________________________________________\n",
      "concatenate_132 (Concatenate)   (None, 32, 32, 192)  0           up_sampling2d_132[0][0]          \n",
      "                                                                 activation_601[0][0]             \n",
      "__________________________________________________________________________________________________\n",
      "conv2d_637 (Conv2D)             (None, 32, 32, 64)   110656      concatenate_132[0][0]            \n",
      "__________________________________________________________________________________________________\n",
      "batch_normalization_604 (BatchN (None, 32, 32, 64)   256         conv2d_637[0][0]                 \n",
      "__________________________________________________________________________________________________\n",
      "activation_604 (Activation)     (None, 32, 32, 64)   0           batch_normalization_604[0][0]    \n",
      "__________________________________________________________________________________________________\n",
      "conv2d_638 (Conv2D)             (None, 32, 32, 64)   36928       activation_604[0][0]             \n",
      "__________________________________________________________________________________________________\n",
      "batch_normalization_605 (BatchN (None, 32, 32, 64)   256         conv2d_638[0][0]                 \n",
      "__________________________________________________________________________________________________\n",
      "activation_605 (Activation)     (None, 32, 32, 64)   0           batch_normalization_605[0][0]    \n",
      "__________________________________________________________________________________________________\n",
      "up_sampling2d_133 (UpSampling2D (None, 64, 64, 64)   0           activation_605[0][0]             \n",
      "__________________________________________________________________________________________________\n",
      "concatenate_133 (Concatenate)   (None, 64, 64, 112)  0           up_sampling2d_133[0][0]          \n",
      "                                                                 activation_599[0][0]             \n",
      "__________________________________________________________________________________________________\n",
      "conv2d_639 (Conv2D)             (None, 64, 64, 48)   48432       concatenate_133[0][0]            \n",
      "__________________________________________________________________________________________________\n",
      "batch_normalization_606 (BatchN (None, 64, 64, 48)   192         conv2d_639[0][0]                 \n",
      "__________________________________________________________________________________________________\n",
      "activation_606 (Activation)     (None, 64, 64, 48)   0           batch_normalization_606[0][0]    \n",
      "__________________________________________________________________________________________________\n",
      "conv2d_640 (Conv2D)             (None, 64, 64, 48)   20784       activation_606[0][0]             \n",
      "__________________________________________________________________________________________________\n",
      "batch_normalization_607 (BatchN (None, 64, 64, 48)   192         conv2d_640[0][0]                 \n",
      "__________________________________________________________________________________________________\n",
      "activation_607 (Activation)     (None, 64, 64, 48)   0           batch_normalization_607[0][0]    \n",
      "__________________________________________________________________________________________________\n",
      "up_sampling2d_134 (UpSampling2D (None, 128, 128, 48) 0           activation_607[0][0]             \n",
      "__________________________________________________________________________________________________\n",
      "concatenate_134 (Concatenate)   (None, 128, 128, 80) 0           up_sampling2d_134[0][0]          \n",
      "                                                                 activation_597[0][0]             \n",
      "__________________________________________________________________________________________________\n",
      "conv2d_641 (Conv2D)             (None, 128, 128, 32) 23072       concatenate_134[0][0]            \n",
      "__________________________________________________________________________________________________\n",
      "batch_normalization_608 (BatchN (None, 128, 128, 32) 128         conv2d_641[0][0]                 \n",
      "__________________________________________________________________________________________________\n",
      "activation_608 (Activation)     (None, 128, 128, 32) 0           batch_normalization_608[0][0]    \n",
      "__________________________________________________________________________________________________\n",
      "conv2d_642 (Conv2D)             (None, 128, 128, 32) 9248        activation_608[0][0]             \n",
      "__________________________________________________________________________________________________\n",
      "batch_normalization_609 (BatchN (None, 128, 128, 32) 128         conv2d_642[0][0]                 \n",
      "__________________________________________________________________________________________________\n",
      "activation_609 (Activation)     (None, 128, 128, 32) 0           batch_normalization_609[0][0]    \n",
      "__________________________________________________________________________________________________\n",
      "up_sampling2d_135 (UpSampling2D (None, 256, 256, 32) 0           activation_609[0][0]             \n",
      "__________________________________________________________________________________________________\n",
      "concatenate_135 (Concatenate)   (None, 256, 256, 48) 0           up_sampling2d_135[0][0]          \n",
      "                                                                 activation_595[0][0]             \n",
      "__________________________________________________________________________________________________\n",
      "conv2d_643 (Conv2D)             (None, 256, 256, 16) 6928        concatenate_135[0][0]            \n",
      "__________________________________________________________________________________________________\n",
      "batch_normalization_610 (BatchN (None, 256, 256, 16) 64          conv2d_643[0][0]                 \n",
      "__________________________________________________________________________________________________\n",
      "activation_610 (Activation)     (None, 256, 256, 16) 0           batch_normalization_610[0][0]    \n",
      "__________________________________________________________________________________________________\n",
      "conv2d_644 (Conv2D)             (None, 256, 256, 16) 2320        activation_610[0][0]             \n",
      "__________________________________________________________________________________________________\n",
      "batch_normalization_611 (BatchN (None, 256, 256, 16) 64          conv2d_644[0][0]                 \n",
      "__________________________________________________________________________________________________\n",
      "activation_611 (Activation)     (None, 256, 256, 16) 0           batch_normalization_611[0][0]    \n",
      "__________________________________________________________________________________________________\n",
      "conv2d_645 (Conv2D)             (None, 256, 256, 2)  34          activation_611[0][0]             \n",
      "==================================================================================================\n",
      "Total params: 599,378\n",
      "Trainable params: 597,586\n",
      "Non-trainable params: 1,792\n",
      "__________________________________________________________________________________________________\n"
     ]
    }
   ],
   "source": [
    "model = build_unet((256, 256, 3), 2)\n",
    "model.summary()"
   ]
  },
  {
   "cell_type": "markdown",
   "id": "legitimate-nigeria",
   "metadata": {},
   "source": [
    "# Train the model"
   ]
  },
  {
   "cell_type": "code",
   "execution_count": 76,
   "id": "accredited-jones",
   "metadata": {},
   "outputs": [],
   "source": [
    "from tensorflow.keras.callbacks import ModelCheckpoint, ReduceLROnPlateau, EarlyStopping"
   ]
  },
  {
   "cell_type": "code",
   "execution_count": 162,
   "id": "demonstrated-device",
   "metadata": {},
   "outputs": [
    {
     "name": "stdout",
     "output_type": "stream",
     "text": [
      "Epoch 1/3\n",
      "387/387 [==============================] - 1105s 3s/step - loss: 0.0000e+00 - val_loss: 0.0000e+00\n",
      "\n",
      "Epoch 00001: val_loss improved from inf to 0.00000, saving model to model.h5\n",
      "Epoch 2/3\n",
      "387/387 [==============================] - 973s 3s/step - loss: 0.0000e+00 - val_loss: 0.0000e+00\n",
      "\n",
      "Epoch 00002: val_loss did not improve from 0.00000\n",
      "Epoch 3/3\n",
      "387/387 [==============================] - 969s 3s/step - loss: 0.0000e+00 - val_loss: 0.0000e+00\n",
      "\n",
      "Epoch 00003: val_loss did not improve from 0.00000\n"
     ]
    },
    {
     "data": {
      "text/plain": [
       "<tensorflow.python.keras.callbacks.History at 0x7feeffe08c88>"
      ]
     },
     "execution_count": 162,
     "metadata": {},
     "output_type": "execute_result"
    }
   ],
   "source": [
    "\"\"\"Seeding\"\"\"\n",
    "np.random.seed(88)\n",
    "tf.random.set_seed(88)\n",
    "\n",
    "\n",
    "\"\"\"Hyperparameter\"\"\"\n",
    "shape = (256, 256, 3)\n",
    "num_classes = 3\n",
    "lr = 1e-4\n",
    "batch_size = 8\n",
    "epochs = 3\n",
    "\n",
    "\n",
    "\"\"\"Model\"\"\"\n",
    "model = build_unet(shape, num_classes)\n",
    "model.compile(loss=\"categorical_crossentropy\",\n",
    "              optimizer=tf.keras.optimizers.Adam(lr))\n",
    "train_dataset = make_tf_dataset(train_x, train_y, batch=batch_size)\n",
    "val_dataset = make_tf_dataset(val_x, val_y, batch=batch_size)\n",
    "\n",
    "train_steps = len(train_x)//batch_size\n",
    "val_steps = len(val_x)//batch_size\n",
    "\n",
    "callbacks = [\n",
    "             ModelCheckpoint(\"model.h5\", verbose=1, save_best_only=True),\n",
    "             ReduceLROnPlateau(monitor='val_loss', patience=3, factor=0.1, verbose=1, min_lr = 1e-6),\n",
    "             EarlyStopping(monitor='val_loss', patience=5, verbose=1)\n",
    "]\n",
    "\n",
    "model.fit(\n",
    "    train_dataset,\n",
    "    steps_per_epoch=train_steps,\n",
    "    validation_data=val_dataset,\n",
    "    validation_steps=val_steps,\n",
    "    epochs=epochs,\n",
    "    callbacks = callbacks\n",
    ")"
   ]
  },
  {
   "cell_type": "code",
   "execution_count": null,
   "id": "marine-cathedral",
   "metadata": {},
   "outputs": [],
   "source": []
  }
 ],
 "metadata": {
  "kernelspec": {
   "display_name": "Python 3",
   "language": "python",
   "name": "python3"
  },
  "language_info": {
   "codemirror_mode": {
    "name": "ipython",
    "version": 3
   },
   "file_extension": ".py",
   "mimetype": "text/x-python",
   "name": "python",
   "nbconvert_exporter": "python",
   "pygments_lexer": "ipython3",
   "version": "3.6.7"
  },
  "toc": {
   "base_numbering": 1,
   "nav_menu": {},
   "number_sections": true,
   "sideBar": true,
   "skip_h1_title": false,
   "title_cell": "Table of Contents",
   "title_sidebar": "Contents",
   "toc_cell": false,
   "toc_position": {},
   "toc_section_display": true,
   "toc_window_display": false
  },
  "varInspector": {
   "cols": {
    "lenName": 16,
    "lenType": 16,
    "lenVar": 40
   },
   "kernels_config": {
    "python": {
     "delete_cmd_postfix": "",
     "delete_cmd_prefix": "del ",
     "library": "var_list.py",
     "varRefreshCmd": "print(var_dic_list())"
    },
    "r": {
     "delete_cmd_postfix": ") ",
     "delete_cmd_prefix": "rm(",
     "library": "var_list.r",
     "varRefreshCmd": "cat(var_dic_list()) "
    }
   },
   "types_to_exclude": [
    "module",
    "function",
    "builtin_function_or_method",
    "instance",
    "_Feature"
   ],
   "window_display": false
  }
 },
 "nbformat": 4,
 "nbformat_minor": 5
}

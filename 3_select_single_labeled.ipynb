{
 "cells": [
  {
   "cell_type": "markdown",
   "id": "square-irrigation",
   "metadata": {},
   "source": [
    "# Import libraries"
   ]
  },
  {
   "cell_type": "code",
   "execution_count": 1,
   "id": "ahead-sharing",
   "metadata": {},
   "outputs": [],
   "source": [
    "import os\n",
    "import pandas as pd\n",
    "import numpy as np\n",
    "import cv2\n",
    "from PIL import Image\n",
    "from shutil import copyfile"
   ]
  },
  {
   "cell_type": "markdown",
   "id": "precious-twelve",
   "metadata": {},
   "source": [
    "# Make new directory for single-labeled masks\n",
    "\n",
    "I am using the term label for mask."
   ]
  },
  {
   "cell_type": "code",
   "execution_count": 2,
   "id": "colored-arrival",
   "metadata": {},
   "outputs": [],
   "source": [
    "new_dir = 'partial_dataset'\n",
    "train_images = os.path.join(new_dir, 'train', 'images')\n",
    "val_images = os.path.join(new_dir, 'val', 'images')\n",
    "\n",
    "train_labels = os.path.join(new_dir, 'train', 'labels')\n",
    "val_labels = os.path.join(new_dir, 'val', 'labels')\n",
    "\n",
    "if not os.path.exists('partial_dataset'):\n",
    "    for d in [train_images, val_images, train_labels, val_labels]:\n",
    "        os.makedirs(d)"
   ]
  },
  {
   "cell_type": "markdown",
   "id": "exceptional-auckland",
   "metadata": {},
   "source": [
    "# Change color of the masks, save to `partial_dataset`\n",
    "\n",
    "cian == cloud shadow  \n",
    "lime == double plant  \n",
    "silver == planter skip  \n",
    "teal == standing water  \n",
    "magenta == waterway  \n",
    "yellow == weed cluster\n",
    "\n",
    "```\n",
    "def change_color_maks(df, destination):\n",
    "    \n",
    "    for index, row in df.iterrows():\n",
    "        # print(index, row['filename'])\n",
    "\n",
    "        o_file = row['filename']\n",
    "        img = cv2.imread(o_file, 1)\n",
    "        r1, g1, b1 = 255, 255, 255  # white, original value for the mask\n",
    "\n",
    "        r2, g2, b2 = 0, 0, 0  # values to be replaced based on label\n",
    "        if row['cloud_shadow'] == 1:\n",
    "            r2, g2, b2 = 0, 255, 255  # cian\n",
    "        elif row['double_plant'] == 1:\n",
    "            r2, g2, b2 = 0, 255, 0  # lime\n",
    "        elif row['planter_skip'] == 1:\n",
    "            r2, g2, b2 = 192, 192, 192  # silver\n",
    "        elif row['standing_water'] == 1:\n",
    "            r2, g2, b2 = 0, 128, 128  # teal\n",
    "        elif['waterway'] == 1:\n",
    "            r2, g2, b2 = 255, 0, 255  # magenta\n",
    "        else:\n",
    "            r2, g2, b2 = 255, 255, 0  # yellow\n",
    "\n",
    "        data = np.array(img)\n",
    "\n",
    "        red, green, blue = data[:,:,0], data[:,:,1], data[:,:,2]\n",
    "        mask = (red == r1) & (green == g1) & (blue == b1)\n",
    "        data[:,:,:3][mask] = [r2, g2, b2]\n",
    "\n",
    "        img_c = Image.fromarray(data)\n",
    "        new_filename = o_file.split('/')[-1]\n",
    "        img_c.save(os.path.join(destination, new_filename))\n",
    "        \n",
    "change_color_maks(train_singles, train_labels)\n",
    "change_color_maks(val_singles, val_labels)\n",
    "\n",
    "```"
   ]
  },
  {
   "cell_type": "code",
   "execution_count": 3,
   "id": "criminal-joshua",
   "metadata": {
    "scrolled": true
   },
   "outputs": [
    {
     "data": {
      "text/html": [
       "<div>\n",
       "<style scoped>\n",
       "    .dataframe tbody tr th:only-of-type {\n",
       "        vertical-align: middle;\n",
       "    }\n",
       "\n",
       "    .dataframe tbody tr th {\n",
       "        vertical-align: top;\n",
       "    }\n",
       "\n",
       "    .dataframe thead th {\n",
       "        text-align: right;\n",
       "    }\n",
       "</style>\n",
       "<table border=\"1\" class=\"dataframe\">\n",
       "  <thead>\n",
       "    <tr style=\"text-align: right;\">\n",
       "      <th></th>\n",
       "      <th>filename</th>\n",
       "      <th>cloud_shadow</th>\n",
       "      <th>double_plant</th>\n",
       "      <th>planter_skip</th>\n",
       "      <th>standing_water</th>\n",
       "      <th>waterway</th>\n",
       "      <th>weed_cluster</th>\n",
       "    </tr>\n",
       "  </thead>\n",
       "  <tbody>\n",
       "    <tr>\n",
       "      <th>0</th>\n",
       "      <td>dataset/Agriculture-Vision/train/labels/cloud_...</td>\n",
       "      <td>1.0</td>\n",
       "      <td>0.0</td>\n",
       "      <td>0.0</td>\n",
       "      <td>0.0</td>\n",
       "      <td>0.0</td>\n",
       "      <td>0.0</td>\n",
       "    </tr>\n",
       "    <tr>\n",
       "      <th>1</th>\n",
       "      <td>dataset/Agriculture-Vision/train/labels/cloud_...</td>\n",
       "      <td>1.0</td>\n",
       "      <td>0.0</td>\n",
       "      <td>0.0</td>\n",
       "      <td>0.0</td>\n",
       "      <td>0.0</td>\n",
       "      <td>0.0</td>\n",
       "    </tr>\n",
       "    <tr>\n",
       "      <th>2</th>\n",
       "      <td>dataset/Agriculture-Vision/train/labels/cloud_...</td>\n",
       "      <td>1.0</td>\n",
       "      <td>0.0</td>\n",
       "      <td>0.0</td>\n",
       "      <td>0.0</td>\n",
       "      <td>0.0</td>\n",
       "      <td>0.0</td>\n",
       "    </tr>\n",
       "    <tr>\n",
       "      <th>3</th>\n",
       "      <td>dataset/Agriculture-Vision/train/labels/cloud_...</td>\n",
       "      <td>1.0</td>\n",
       "      <td>0.0</td>\n",
       "      <td>0.0</td>\n",
       "      <td>0.0</td>\n",
       "      <td>0.0</td>\n",
       "      <td>0.0</td>\n",
       "    </tr>\n",
       "    <tr>\n",
       "      <th>4</th>\n",
       "      <td>dataset/Agriculture-Vision/train/labels/cloud_...</td>\n",
       "      <td>1.0</td>\n",
       "      <td>0.0</td>\n",
       "      <td>0.0</td>\n",
       "      <td>0.0</td>\n",
       "      <td>0.0</td>\n",
       "      <td>0.0</td>\n",
       "    </tr>\n",
       "  </tbody>\n",
       "</table>\n",
       "</div>"
      ],
      "text/plain": [
       "                                            filename  cloud_shadow  \\\n",
       "0  dataset/Agriculture-Vision/train/labels/cloud_...           1.0   \n",
       "1  dataset/Agriculture-Vision/train/labels/cloud_...           1.0   \n",
       "2  dataset/Agriculture-Vision/train/labels/cloud_...           1.0   \n",
       "3  dataset/Agriculture-Vision/train/labels/cloud_...           1.0   \n",
       "4  dataset/Agriculture-Vision/train/labels/cloud_...           1.0   \n",
       "\n",
       "   double_plant  planter_skip  standing_water  waterway  weed_cluster  \n",
       "0           0.0           0.0             0.0       0.0           0.0  \n",
       "1           0.0           0.0             0.0       0.0           0.0  \n",
       "2           0.0           0.0             0.0       0.0           0.0  \n",
       "3           0.0           0.0             0.0       0.0           0.0  \n",
       "4           0.0           0.0             0.0       0.0           0.0  "
      ]
     },
     "execution_count": 3,
     "metadata": {},
     "output_type": "execute_result"
    }
   ],
   "source": [
    "train_singles = pd.read_csv('training_singles.csv')\n",
    "train_singles.head()"
   ]
  },
  {
   "cell_type": "code",
   "execution_count": 4,
   "id": "killing-dinner",
   "metadata": {},
   "outputs": [
    {
     "data": {
      "text/html": [
       "<div>\n",
       "<style scoped>\n",
       "    .dataframe tbody tr th:only-of-type {\n",
       "        vertical-align: middle;\n",
       "    }\n",
       "\n",
       "    .dataframe tbody tr th {\n",
       "        vertical-align: top;\n",
       "    }\n",
       "\n",
       "    .dataframe thead th {\n",
       "        text-align: right;\n",
       "    }\n",
       "</style>\n",
       "<table border=\"1\" class=\"dataframe\">\n",
       "  <thead>\n",
       "    <tr style=\"text-align: right;\">\n",
       "      <th></th>\n",
       "      <th>filename</th>\n",
       "      <th>cloud_shadow</th>\n",
       "      <th>double_plant</th>\n",
       "      <th>planter_skip</th>\n",
       "      <th>standing_water</th>\n",
       "      <th>waterway</th>\n",
       "      <th>weed_cluster</th>\n",
       "    </tr>\n",
       "  </thead>\n",
       "  <tbody>\n",
       "    <tr>\n",
       "      <th>0</th>\n",
       "      <td>dataset/Agriculture-Vision/val/labels/cloud_sh...</td>\n",
       "      <td>1.0</td>\n",
       "      <td>0.0</td>\n",
       "      <td>0.0</td>\n",
       "      <td>0.0</td>\n",
       "      <td>0.0</td>\n",
       "      <td>0.0</td>\n",
       "    </tr>\n",
       "    <tr>\n",
       "      <th>1</th>\n",
       "      <td>dataset/Agriculture-Vision/val/labels/cloud_sh...</td>\n",
       "      <td>1.0</td>\n",
       "      <td>0.0</td>\n",
       "      <td>0.0</td>\n",
       "      <td>0.0</td>\n",
       "      <td>0.0</td>\n",
       "      <td>0.0</td>\n",
       "    </tr>\n",
       "    <tr>\n",
       "      <th>2</th>\n",
       "      <td>dataset/Agriculture-Vision/val/labels/cloud_sh...</td>\n",
       "      <td>1.0</td>\n",
       "      <td>0.0</td>\n",
       "      <td>0.0</td>\n",
       "      <td>0.0</td>\n",
       "      <td>0.0</td>\n",
       "      <td>0.0</td>\n",
       "    </tr>\n",
       "    <tr>\n",
       "      <th>3</th>\n",
       "      <td>dataset/Agriculture-Vision/val/labels/cloud_sh...</td>\n",
       "      <td>1.0</td>\n",
       "      <td>0.0</td>\n",
       "      <td>0.0</td>\n",
       "      <td>0.0</td>\n",
       "      <td>0.0</td>\n",
       "      <td>0.0</td>\n",
       "    </tr>\n",
       "    <tr>\n",
       "      <th>4</th>\n",
       "      <td>dataset/Agriculture-Vision/val/labels/cloud_sh...</td>\n",
       "      <td>1.0</td>\n",
       "      <td>0.0</td>\n",
       "      <td>0.0</td>\n",
       "      <td>0.0</td>\n",
       "      <td>0.0</td>\n",
       "      <td>0.0</td>\n",
       "    </tr>\n",
       "  </tbody>\n",
       "</table>\n",
       "</div>"
      ],
      "text/plain": [
       "                                            filename  cloud_shadow  \\\n",
       "0  dataset/Agriculture-Vision/val/labels/cloud_sh...           1.0   \n",
       "1  dataset/Agriculture-Vision/val/labels/cloud_sh...           1.0   \n",
       "2  dataset/Agriculture-Vision/val/labels/cloud_sh...           1.0   \n",
       "3  dataset/Agriculture-Vision/val/labels/cloud_sh...           1.0   \n",
       "4  dataset/Agriculture-Vision/val/labels/cloud_sh...           1.0   \n",
       "\n",
       "   double_plant  planter_skip  standing_water  waterway  weed_cluster  \n",
       "0           0.0           0.0             0.0       0.0           0.0  \n",
       "1           0.0           0.0             0.0       0.0           0.0  \n",
       "2           0.0           0.0             0.0       0.0           0.0  \n",
       "3           0.0           0.0             0.0       0.0           0.0  \n",
       "4           0.0           0.0             0.0       0.0           0.0  "
      ]
     },
     "execution_count": 4,
     "metadata": {},
     "output_type": "execute_result"
    }
   ],
   "source": [
    "val_singles = pd.read_csv('validation_singles.csv')\n",
    "val_singles.head()"
   ]
  },
  {
   "cell_type": "markdown",
   "id": "designing-skating",
   "metadata": {},
   "source": [
    "# Save RGB image to `partial_dataset`"
   ]
  },
  {
   "cell_type": "code",
   "execution_count": 12,
   "id": "assisted-input",
   "metadata": {
    "code_folding": []
   },
   "outputs": [],
   "source": [
    "def save_images(df, source):    \n",
    "    \"\"\" Save images. source == 'train' or 'val' \"\"\"\n",
    "    for index, row in df.iterrows():\n",
    "        filename = row['filename'].split('/')[-1][:-4]+'.jpg'\n",
    "        img_source = os.path.join('dataset', 'Agriculture-Vision', source, 'images', 'rgb', filename)\n",
    "        img_destination = os.path.join('partial_dataset', source, 'images', filename)\n",
    "        copyfile(img_source, img_destination)\n",
    "        \n",
    "        \n",
    "def save_labels(df, source):    \n",
    "    \"\"\" Save images. source == 'train' or 'val' \"\"\"\n",
    "    for index, row in df.iterrows():\n",
    "        filename = row['filename'].split('/')[-1][:-4]+'.jpg'\n",
    "        mk_source = row['filename']\n",
    "        mk_destination = os.path.join('partial_dataset', source, 'labels', filename)\n",
    "        copyfile(mk_source, mk_destination)"
   ]
  },
  {
   "cell_type": "code",
   "execution_count": 13,
   "id": "foreign-balance",
   "metadata": {},
   "outputs": [],
   "source": [
    "# save_images(train_singles, 'train')\n",
    "save_labels(train_singles, 'train')"
   ]
  },
  {
   "cell_type": "code",
   "execution_count": 14,
   "id": "sustainable-theory",
   "metadata": {},
   "outputs": [],
   "source": [
    "# save_images(val_singles, 'val')\n",
    "save_labels(val_singles, 'val')"
   ]
  },
  {
   "cell_type": "code",
   "execution_count": null,
   "id": "victorian-florist",
   "metadata": {},
   "outputs": [],
   "source": []
  }
 ],
 "metadata": {
  "kernelspec": {
   "display_name": "Python 3",
   "language": "python",
   "name": "python3"
  },
  "language_info": {
   "codemirror_mode": {
    "name": "ipython",
    "version": 3
   },
   "file_extension": ".py",
   "mimetype": "text/x-python",
   "name": "python",
   "nbconvert_exporter": "python",
   "pygments_lexer": "ipython3",
   "version": "3.6.7"
  },
  "toc": {
   "base_numbering": 1,
   "nav_menu": {},
   "number_sections": true,
   "sideBar": true,
   "skip_h1_title": false,
   "title_cell": "Table of Contents",
   "title_sidebar": "Contents",
   "toc_cell": false,
   "toc_position": {},
   "toc_section_display": true,
   "toc_window_display": false
  },
  "varInspector": {
   "cols": {
    "lenName": 16,
    "lenType": 16,
    "lenVar": 40
   },
   "kernels_config": {
    "python": {
     "delete_cmd_postfix": "",
     "delete_cmd_prefix": "del ",
     "library": "var_list.py",
     "varRefreshCmd": "print(var_dic_list())"
    },
    "r": {
     "delete_cmd_postfix": ") ",
     "delete_cmd_prefix": "rm(",
     "library": "var_list.r",
     "varRefreshCmd": "cat(var_dic_list()) "
    }
   },
   "types_to_exclude": [
    "module",
    "function",
    "builtin_function_or_method",
    "instance",
    "_Feature"
   ],
   "window_display": false
  }
 },
 "nbformat": 4,
 "nbformat_minor": 5
}

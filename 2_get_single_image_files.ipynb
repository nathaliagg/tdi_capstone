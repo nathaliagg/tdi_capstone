{
 "cells": [
  {
   "cell_type": "markdown",
   "id": "victorian-sight",
   "metadata": {},
   "source": [
    "# Import libraries"
   ]
  },
  {
   "cell_type": "code",
   "execution_count": 1,
   "id": "literary-brain",
   "metadata": {},
   "outputs": [],
   "source": [
    "import os\n",
    "import glob\n",
    "from natsort import natsorted\n",
    "from PIL import Image\n",
    "# import random\n",
    "import pandas as pd\n",
    "import numpy as np"
   ]
  },
  {
   "cell_type": "markdown",
   "id": "spanish-happening",
   "metadata": {},
   "source": [
    "# `def` functions\n",
    "\n",
    "`test_image_all_black()` tests if the image is all black (`img.getextrema() == (0,0)`), which means it doesn't have a mask for a particular label."
   ]
  },
  {
   "cell_type": "code",
   "execution_count": 2,
   "id": "associate-individual",
   "metadata": {
    "code_folding": [
     0,
     12
    ]
   },
   "outputs": [],
   "source": [
    "def test_image_all_black(path_img_file):\n",
    "    \"\"\" Tests if image file is all black, meaning no mask/label == 0 \"\"\"\n",
    "    \n",
    "    img = Image.open(path_img_file)\n",
    "    \n",
    "    if img.getextrema() == (0,0):  # test if all black\n",
    "        return 0\n",
    "    else:\n",
    "        return 1\n",
    "    \n",
    "    \n",
    "    \n",
    "def make_label_dict(list_img_files):\n",
    "    \"\"\" Make label dictionary structure \"\"\"\n",
    "    \n",
    "    label_dict = {}\n",
    "    \n",
    "    for file in list_img_files:\n",
    "    \n",
    "        label = file.split('/')[-2]\n",
    "        res = test_image_all_black(file)\n",
    "\n",
    "        if file not in label_dict:\n",
    "            label_dict[file]={}\n",
    "            label_dict[file][label]=res\n",
    "        else:\n",
    "            label_dict[file][label]=res\n",
    "            \n",
    "    return label_dict\n",
    "\n"
   ]
  },
  {
   "cell_type": "markdown",
   "id": "wireless-orange",
   "metadata": {},
   "source": [
    "# Make dictionary of labels\n",
    "\n",
    "I don't know how to deal with multiple layers. So, I am getting all the files with only one label and doing exploratory analysis on those data.\n",
    "\n",
    "Each label directory contains all mask files. Image files in these directory that are entirely black do not have a mask for that particular label. If the image files have some white in them, they have a mask for that label.\n",
    "\n",
    "I am creating a dictionary structure to gather the label for each image like so:\n",
    "\n",
    "\n",
    "```\n",
    "label_dict = {\n",
    "\n",
    "    'filename_1.png' : {\n",
    "        'cloud_shadow' : 1,\n",
    "        'double_plant' : 0,\n",
    "        (...)\n",
    "    },\n",
    "    \n",
    "    'filename_2.png' : {\n",
    "        'cloud_shadow' : 0,\n",
    "        'double_plant' : 1,\n",
    "        (...)\n",
    "    },\n",
    "    \n",
    "    (...)\n",
    "}\n",
    "```\n",
    "\n",
    "1 indicates the images has that label  \n",
    "0 indicates no label"
   ]
  },
  {
   "cell_type": "code",
   "execution_count": 3,
   "id": "virtual-nickname",
   "metadata": {},
   "outputs": [],
   "source": [
    "train_files = natsorted(glob.glob('dataset/Agriculture-Vision/train/labels/*/*.png'))\n",
    "train_dict = make_label_dict(train_files)"
   ]
  },
  {
   "cell_type": "code",
   "execution_count": 4,
   "id": "usual-resolution",
   "metadata": {},
   "outputs": [],
   "source": [
    "val_files = natsorted(glob.glob('dataset/Agriculture-Vision/val/labels/*/*.png'))\n",
    "val_dict = make_label_dict(val_files)"
   ]
  },
  {
   "cell_type": "markdown",
   "id": "useful-review",
   "metadata": {},
   "source": [
    "# Transform dictionary into a dataframe\n",
    "\n",
    "I am transforming that dictionary structure into a `pd.DataFrame()` and removing all files that contain more than one label (because I am not sure how to deal with multiple labels)."
   ]
  },
  {
   "cell_type": "markdown",
   "id": "radio-development",
   "metadata": {},
   "source": [
    "## Train"
   ]
  },
  {
   "cell_type": "code",
   "execution_count": 11,
   "id": "novel-allocation",
   "metadata": {},
   "outputs": [
    {
     "name": "stdout",
     "output_type": "stream",
     "text": [
      "62970 image files with multiple labels. Now, the exploratory dataset has 14436 files.\n"
     ]
    }
   ],
   "source": [
    "train_df = pd.DataFrame.from_dict(train_dict, orient='index')\n",
    "train_df = train_df.replace(np.nan, 0)\n",
    "i = train_df.shape[0]\n",
    "train_singles = train_df[train_df.sum(axis=1)==1]\n",
    "f = train_singles.shape[0]\n",
    "train_singles = train_singles.reset_index()\n",
    "train_singles = train_singles.rename(columns={'index':'filename'})\n",
    "print(f\"{i-f} image files with multiple labels. Now, the exploratory dataset has {f} files.\")"
   ]
  },
  {
   "cell_type": "markdown",
   "id": "operational-pregnancy",
   "metadata": {},
   "source": [
    "## Val"
   ]
  },
  {
   "cell_type": "code",
   "execution_count": 12,
   "id": "scheduled-preparation",
   "metadata": {},
   "outputs": [
    {
     "name": "stdout",
     "output_type": "stream",
     "text": [
      "21872 image files with multiple labels. Now, the exploratory dataset has 4714 files.\n"
     ]
    }
   ],
   "source": [
    "val_df = pd.DataFrame.from_dict(val_dict, orient='index')\n",
    "val_df = val_df.replace(np.nan, 0)\n",
    "i = val_df.shape[0]\n",
    "val_singles = val_df[val_df.sum(axis=1)==1]\n",
    "f = val_singles.shape[0]\n",
    "val_singles = val_singles.reset_index()\n",
    "val_singles = val_singles.rename(columns={'index':'filename'})\n",
    "print(f\"{i-f} image files with multiple labels. Now, the exploratory dataset has {f} files.\")"
   ]
  },
  {
   "cell_type": "markdown",
   "id": "worthy-appliance",
   "metadata": {},
   "source": [
    "I know I am leaving out a lot of files... but I don't know how to deal with multiple labels!"
   ]
  },
  {
   "cell_type": "code",
   "execution_count": 13,
   "id": "prostate-police",
   "metadata": {},
   "outputs": [],
   "source": [
    "# save dataframes\n",
    "train_singles.to_csv('training_singles.csv', index=False)\n",
    "val_singles.to_csv('validation_singles.csv', index=False)"
   ]
  },
  {
   "cell_type": "code",
   "execution_count": null,
   "id": "resident-blackberry",
   "metadata": {},
   "outputs": [],
   "source": []
  }
 ],
 "metadata": {
  "kernelspec": {
   "display_name": "Python 3",
   "language": "python",
   "name": "python3"
  },
  "language_info": {
   "codemirror_mode": {
    "name": "ipython",
    "version": 3
   },
   "file_extension": ".py",
   "mimetype": "text/x-python",
   "name": "python",
   "nbconvert_exporter": "python",
   "pygments_lexer": "ipython3",
   "version": "3.6.7"
  },
  "toc": {
   "base_numbering": 1,
   "nav_menu": {},
   "number_sections": true,
   "sideBar": true,
   "skip_h1_title": false,
   "title_cell": "Table of Contents",
   "title_sidebar": "Contents",
   "toc_cell": false,
   "toc_position": {},
   "toc_section_display": true,
   "toc_window_display": false
  },
  "varInspector": {
   "cols": {
    "lenName": 16,
    "lenType": 16,
    "lenVar": 40
   },
   "kernels_config": {
    "python": {
     "delete_cmd_postfix": "",
     "delete_cmd_prefix": "del ",
     "library": "var_list.py",
     "varRefreshCmd": "print(var_dic_list())"
    },
    "r": {
     "delete_cmd_postfix": ") ",
     "delete_cmd_prefix": "rm(",
     "library": "var_list.r",
     "varRefreshCmd": "cat(var_dic_list()) "
    }
   },
   "types_to_exclude": [
    "module",
    "function",
    "builtin_function_or_method",
    "instance",
    "_Feature"
   ],
   "window_display": false
  }
 },
 "nbformat": 4,
 "nbformat_minor": 5
}

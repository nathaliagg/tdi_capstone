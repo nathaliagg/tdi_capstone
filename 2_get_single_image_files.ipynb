{
 "cells": [
  {
   "cell_type": "markdown",
   "id": "facial-server",
   "metadata": {},
   "source": [
    "# Import libraries"
   ]
  },
  {
   "cell_type": "code",
   "execution_count": 1,
   "id": "protected-center",
   "metadata": {},
   "outputs": [],
   "source": [
    "%config Completer.use_jedi = False\n",
    "import os\n",
    "import glob\n",
    "from natsort import natsorted\n",
    "from PIL import Image\n",
    "# import random\n",
    "import pandas as pd\n",
    "import numpy as np"
   ]
  },
  {
   "cell_type": "markdown",
   "id": "exempt-munich",
   "metadata": {},
   "source": [
    "# `def` functions\n",
    "\n",
    "`test_image_all_black()` tests if the image is all black (`img.getextrema() == (0,0)`), which means it doesn't have a mask for a particular label."
   ]
  },
  {
   "cell_type": "code",
   "execution_count": 2,
   "id": "allied-painting",
   "metadata": {
    "code_folding": [
     0,
     12
    ]
   },
   "outputs": [],
   "source": [
    "def test_image_all_black(path_img_file):\n",
    "    \"\"\" Tests if image file is all black, meaning no mask/label == 0 \"\"\"\n",
    "    \n",
    "    img = Image.open(path_img_file)\n",
    "    \n",
    "    if img.getextrema() == (0,0):  # test if all black\n",
    "        return 0\n",
    "    else:\n",
    "        return 1\n",
    "    \n",
    "    \n",
    "    \n",
    "def make_label_dict(list_img_files):\n",
    "    \"\"\" Make label dictionary structure \"\"\"\n",
    "    \n",
    "    label_dict = {}\n",
    "    \n",
    "    for file in list_img_files:\n",
    "    \n",
    "        label = file.split('/')[-2]\n",
    "        res = test_image_all_black(file)\n",
    "\n",
    "        if file not in label_dict:\n",
    "            label_dict[file]={}\n",
    "            label_dict[file][label]=res\n",
    "        else:\n",
    "            label_dict[file][label]=res\n",
    "            \n",
    "    return label_dict\n",
    "\n"
   ]
  },
  {
   "cell_type": "markdown",
   "id": "tender-terror",
   "metadata": {},
   "source": [
    "# Make dictionary of labels\n",
    "\n",
    "I don't know how to deal with multiple layers. So, I am getting all the files with only one label and doing exploratory analysis on those data.\n",
    "\n",
    "Each label directory contains all mask files. Image files in these directory that are entirely black do not have a mask for that particular label. If the image files have some white in them, they have a mask for that label.\n",
    "\n",
    "I am creating a dictionary structure to gather the label for each image like so:\n",
    "\n",
    "\n",
    "```\n",
    "label_dict = {\n",
    "\n",
    "    'filename_1.png' : {\n",
    "        'cloud_shadow' : 1,\n",
    "        'double_plant' : 0,\n",
    "        (...)\n",
    "    },\n",
    "    \n",
    "    'filename_2.png' : {\n",
    "        'cloud_shadow' : 0,\n",
    "        'double_plant' : 1,\n",
    "        (...)\n",
    "    },\n",
    "    \n",
    "    (...)\n",
    "}\n",
    "```\n",
    "\n",
    "1 indicates the images has that label  \n",
    "0 indicates no label"
   ]
  },
  {
   "cell_type": "code",
   "execution_count": 3,
   "id": "behavioral-trouble",
   "metadata": {},
   "outputs": [],
   "source": [
    "train_files = natsorted(glob.glob('dataset/Agriculture-Vision/train/labels/*/*.png'))\n",
    "train_dict = make_label_dict(train_files)"
   ]
  },
  {
   "cell_type": "code",
   "execution_count": 4,
   "id": "abstract-coral",
   "metadata": {},
   "outputs": [],
   "source": [
    "val_files = natsorted(glob.glob('dataset/Agriculture-Vision/val/labels/*/*.png'))\n",
    "val_dict = make_label_dict(val_files)"
   ]
  },
  {
   "cell_type": "markdown",
   "id": "swedish-floor",
   "metadata": {},
   "source": [
    "# Transform dictionary into a dataframe\n",
    "\n",
    "I am transforming that dictionary structure into a `pd.DataFrame()` and removing all files that contain more than one label (because I am not sure how to deal with multiple labels)."
   ]
  },
  {
   "cell_type": "markdown",
   "id": "steady-military",
   "metadata": {},
   "source": [
    "## Train"
   ]
  },
  {
   "cell_type": "code",
   "execution_count": 5,
   "id": "agricultural-bernard",
   "metadata": {},
   "outputs": [
    {
     "name": "stdout",
     "output_type": "stream",
     "text": [
      "62970 image files with multiple labels. Now, the exploratory dataset has 14436 files.\n"
     ]
    }
   ],
   "source": [
    "train_df = pd.DataFrame.from_dict(train_dict, orient='index')\n",
    "train_df = train_df.replace(np.nan, 0)\n",
    "i = train_df.shape[0]\n",
    "train_singles = train_df[train_df.sum(axis=1)==1]\n",
    "f = train_singles.shape[0]\n",
    "train_singles = train_singles.reset_index()\n",
    "train_singles = train_singles.rename(columns={'index':'filename'})\n",
    "print(f\"{i-f} image files with multiple labels. Now, the exploratory dataset has {f} files.\")"
   ]
  },
  {
   "cell_type": "markdown",
   "id": "destroyed-military",
   "metadata": {},
   "source": [
    "## Val"
   ]
  },
  {
   "cell_type": "code",
   "execution_count": 6,
   "id": "royal-workplace",
   "metadata": {},
   "outputs": [
    {
     "name": "stdout",
     "output_type": "stream",
     "text": [
      "21872 image files with multiple labels. Now, the exploratory dataset has 4714 files.\n"
     ]
    }
   ],
   "source": [
    "val_df = pd.DataFrame.from_dict(val_dict, orient='index')\n",
    "val_df = val_df.replace(np.nan, 0)\n",
    "i = val_df.shape[0]\n",
    "val_singles = val_df[val_df.sum(axis=1)==1]\n",
    "f = val_singles.shape[0]\n",
    "val_singles = val_singles.reset_index()\n",
    "val_singles = val_singles.rename(columns={'index':'filename'})\n",
    "print(f\"{i-f} image files with multiple labels. Now, the exploratory dataset has {f} files.\")"
   ]
  },
  {
   "cell_type": "markdown",
   "id": "sporting-regard",
   "metadata": {},
   "source": [
    "I know I am leaving out a lot of files... but I don't know how to deal with multiple labels!"
   ]
  },
  {
   "cell_type": "code",
   "execution_count": 7,
   "id": "impressed-discretion",
   "metadata": {},
   "outputs": [],
   "source": [
    "# save dataframes\n",
    "train_singles.to_csv('training_singles.csv', index=False)\n",
    "val_singles.to_csv('validation_singles.csv', index=False)"
   ]
  },
  {
   "cell_type": "markdown",
   "id": "placed-hudson",
   "metadata": {},
   "source": [
    "# Summary number of labels"
   ]
  },
  {
   "cell_type": "code",
   "execution_count": 100,
   "id": "express-kitty",
   "metadata": {},
   "outputs": [
    {
     "data": {
      "text/plain": [
       "n_labels\n",
       "1.0    4157\n",
       "2.0     266\n",
       "3.0       7\n",
       "4.0       1\n",
       "dtype: int64"
      ]
     },
     "execution_count": 100,
     "metadata": {},
     "output_type": "execute_result"
    }
   ],
   "source": [
    "val_summ = val_df.copy()\n",
    "val_summ['n_labels'] = val_summ.sum(axis=1)\n",
    "val_summ = val_summ.reset_index()\n",
    "val_summ['index'] = val_summ['index'].str.split('/').str[-1]\n",
    "val_summ = pd.DataFrame(val_summ.groupby(['index'])['n_labels'].sum())\n",
    "# val_summ = val_summ[val_summ['n_labels']==1] \n",
    "val_summ = val_summ.reset_index()\n",
    "val_summ.groupby(['n_labels']).size()"
   ]
  },
  {
   "cell_type": "code",
   "execution_count": 173,
   "id": "beneficial-superior",
   "metadata": {},
   "outputs": [
    {
     "name": "stdout",
     "output_type": "stream",
     "text": [
      "4157\n"
     ]
    },
    {
     "data": {
      "text/plain": [
       "label_type\n",
       "planter_skip        16\n",
       "cloud_shadow       197\n",
       "standing_water     262\n",
       "double_plant       361\n",
       "waterway           362\n",
       "weed_cluster      2959\n",
       "dtype: int64"
      ]
     },
     "execution_count": 173,
     "metadata": {},
     "output_type": "execute_result"
    }
   ],
   "source": [
    "val_summ = val_df.copy()\n",
    "val_summ['n_labels'] = val_summ.sum(axis=1)\n",
    "val_summ = val_summ.reset_index()\n",
    "val_summ['filename'] = val_summ['index'].str.split('/').str[-1]\n",
    "val_summ['label_type'] = val_summ['index'].str.split('/').str[4]\n",
    "val_summ = val_summ[['n_labels', 'filename', 'label_type']]\n",
    "\n",
    "t = val_summ.groupby(['filename']).sum()\n",
    "t = t[t['n_labels']==1]\n",
    "t = t.reset_index()\n",
    "keep_filenames = list(t['filename'].values)\n",
    "# print(len(keep_filenames))\n",
    "\n",
    "val_summ = val_summ[(val_summ['filename'].isin(keep_filenames)) & val_summ['n_labels']==1].reset_index(drop=True)\n",
    "\n",
    "val_summ.groupby(['label_type']).size().sort_values()# .sum()"
   ]
  },
  {
   "cell_type": "code",
   "execution_count": 65,
   "id": "suburban-colony",
   "metadata": {},
   "outputs": [
    {
     "data": {
      "text/plain": [
       "n_labels\n",
       "1.0    11436\n",
       "2.0     1396\n",
       "3.0       68\n",
       "4.0        1\n",
       "dtype: int64"
      ]
     },
     "execution_count": 65,
     "metadata": {},
     "output_type": "execute_result"
    }
   ],
   "source": [
    "train_summ = train_df.copy()\n",
    "train_summ['n_labels'] = train_summ.sum(axis=1)\n",
    "train_summ = train_summ.reset_index()\n",
    "train_summ['index'] = train_summ['index'].str.split('/').str[-1]\n",
    "train_summ = pd.DataFrame(train_summ.groupby(['index'])['n_labels'].sum())\n",
    "train_summ = train_summ.reset_index()\n",
    "train_summ.groupby(['n_labels']).size()"
   ]
  },
  {
   "cell_type": "code",
   "execution_count": 174,
   "id": "wireless-machinery",
   "metadata": {},
   "outputs": [
    {
     "data": {
      "text/plain": [
       "label_type\n",
       "planter_skip       122\n",
       "standing_water     554\n",
       "cloud_shadow       811\n",
       "waterway          1061\n",
       "double_plant      1165\n",
       "weed_cluster      7723\n",
       "dtype: int64"
      ]
     },
     "execution_count": 174,
     "metadata": {},
     "output_type": "execute_result"
    }
   ],
   "source": [
    "train_summ = train_df.copy()\n",
    "train_summ['n_labels'] = train_summ.sum(axis=1)\n",
    "train_summ = train_summ.reset_index()\n",
    "train_summ['filename'] = train_summ['index'].str.split('/').str[-1]\n",
    "train_summ['label_type'] = train_summ['index'].str.split('/').str[4]\n",
    "train_summ = train_summ[['n_labels', 'filename', 'label_type']]\n",
    "\n",
    "t = train_summ.groupby(['filename']).sum()\n",
    "t = t[t['n_labels']==1]\n",
    "t = t.reset_index()\n",
    "keep_filenames = list(t['filename'].values)\n",
    "# print(len(keep_filenames))\n",
    "\n",
    "train_summ = train_summ[(train_summ['filename'].isin(keep_filenames)) & train_summ['n_labels']==1].reset_index(drop=True)\n",
    "\n",
    "train_summ.groupby(['label_type']).size().sort_values()# .sum()"
   ]
  },
  {
   "cell_type": "code",
   "execution_count": null,
   "id": "affecting-helena",
   "metadata": {},
   "outputs": [],
   "source": []
  }
 ],
 "metadata": {
  "kernelspec": {
   "display_name": "Python 3",
   "language": "python",
   "name": "python3"
  },
  "language_info": {
   "codemirror_mode": {
    "name": "ipython",
    "version": 3
   },
   "file_extension": ".py",
   "mimetype": "text/x-python",
   "name": "python",
   "nbconvert_exporter": "python",
   "pygments_lexer": "ipython3",
   "version": "3.6.7"
  },
  "toc": {
   "base_numbering": 1,
   "nav_menu": {},
   "number_sections": true,
   "sideBar": true,
   "skip_h1_title": false,
   "title_cell": "Table of Contents",
   "title_sidebar": "Contents",
   "toc_cell": false,
   "toc_position": {},
   "toc_section_display": true,
   "toc_window_display": true
  },
  "varInspector": {
   "cols": {
    "lenName": 16,
    "lenType": 16,
    "lenVar": 40
   },
   "kernels_config": {
    "python": {
     "delete_cmd_postfix": "",
     "delete_cmd_prefix": "del ",
     "library": "var_list.py",
     "varRefreshCmd": "print(var_dic_list())"
    },
    "r": {
     "delete_cmd_postfix": ") ",
     "delete_cmd_prefix": "rm(",
     "library": "var_list.r",
     "varRefreshCmd": "cat(var_dic_list()) "
    }
   },
   "types_to_exclude": [
    "module",
    "function",
    "builtin_function_or_method",
    "instance",
    "_Feature"
   ],
   "window_display": false
  }
 },
 "nbformat": 4,
 "nbformat_minor": 5
}

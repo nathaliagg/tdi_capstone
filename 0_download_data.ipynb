{
 "cells": [
  {
   "cell_type": "markdown",
   "metadata": {},
   "source": [
    "**[AgricultureVision](https://registry.opendata.aws/agriculture_vision/)**\n",
    "\n",
    "Here, I explain how I downloaded the dataset associated with the [paper](https://arxiv.org/abs/2001.01306) [1] for my capstone project.\n",
    "\n",
    "The complete dataset contains more than 94,000 high-resolution images from over three thousand farmlands in the US between 2017 and 2019. Each image was annotated with *double plant, drydown, endrow, nutrient deficiency, planter skip, storm damage, water, waterway and weed cluster*. Each image contains four channels: RGB and NIR. These annotated patterns or anomalies had a substancial impact in field conditions and subsequently crop yield [1].\n",
    "\n",
    "I emailed the corresponding author, and asked if I could get access to the data. They very quickly, and shared with me a Google Drive link that I could download the data used in this [challenge](https://www.agriculture-vision.com/dataset) (~4.7 Gb). There is also more information on their [GitHub page](https://github.com/SHI-Labs/Agriculture-Vision) about this challenge, which was held at a workshop in June 2020. \n",
    "\n",
    "**I opted to download the data from the Google Drive link**, however I could have used AWS (below) to download the dataset from their [AWS S3 bucket](https://registry.opendata.aws/agriculture_vision/).\n",
    "\n",
    "\n",
    "This subset dataset only includes the images from 2019, which contains over 21,000 farmland images and six annotatios: *cloud shadow, double plant, planter skip, standing water, waterway and weed cluster*. These six patterns are stored separately as binary masks due to potential overlaps between patterns. Each field image has a file name in the format of \\(field id)_(x1)-(y1)-(x2)-(y2).(jpg/png). Each field id uniquely identifies the farmland that the image is cropped from, and (x1, y1, x2, y2) is a 4-tuple indicating the position in which the image is cropped."
   ]
  },
  {
   "cell_type": "code",
   "execution_count": 1,
   "metadata": {},
   "outputs": [],
   "source": [
    "mkdir dataset"
   ]
  },
  {
   "cell_type": "code",
   "execution_count": 2,
   "metadata": {},
   "outputs": [
    {
     "name": "stdout",
     "output_type": "stream",
     "text": [
      "/Users/grachetng/Programming/TDI_Capstone_Project/dataset\n"
     ]
    }
   ],
   "source": [
    "cd dataset"
   ]
  },
  {
   "cell_type": "code",
   "execution_count": 3,
   "metadata": {},
   "outputs": [
    {
     "name": "stdout",
     "output_type": "stream",
     "text": [
      "2020-06-11 15:44:59          0 \n",
      "2020-06-12 06:22:38 1879589036 data2017_miniscale.tar.gz\n",
      "2020-06-11 15:45:32      14237 data2017_splits.json\n",
      "2020-06-12 17:11:37 13662811864 data2018_miniscale.tar.gz\n",
      "2020-06-11 15:45:32      30134 data2018_splits.json\n",
      "2020-06-12 06:55:57 5525607119 data2019_miniscale.tar.gz\n",
      "2020-06-11 15:45:32      27887 data2019_splits.json\n"
     ]
    }
   ],
   "source": [
    "%%bash\n",
    "aws s3 ls s3://agriculture-vision/Dataset/"
   ]
  },
  {
   "cell_type": "code",
   "execution_count": 8,
   "metadata": {},
   "outputs": [],
   "source": [
    "# option 1 - AWS\n",
    "# \n",
    "# import subprocess\n",
    "# files_to_download = ['data2017_miniscale.tar.gz', 'data2018_miniscale.tar.gz', 'data2019_miniscale.tar.gz',\n",
    "#                      'data2017_splits.json', 'data2018_splits.json', 'data2019_splits.json']\n",
    "# \n",
    "# for file in files_to_download:\n",
    "#     cmd_to_run = f\"aws s3 cp s3://agriculture-vision/Dataset/{file} .\"\n",
    "#     # print(cmd_to_run)\n",
    "#     subprocess.call(cmd_to_run, shell=True)\n",
    "\n",
    "\n",
    "# option 2 - Download from authors"
   ]
  },
  {
   "cell_type": "markdown",
   "metadata": {},
   "source": [
    "```\n",
    "$ gunzip Agriculture-Vision.tar.gz\n",
    "\n",
    "$ tar -xvf Agriculture-Vision.tar\n",
    "```"
   ]
  },
  {
   "cell_type": "markdown",
   "metadata": {},
   "source": [
    "References:\n",
    "\n",
    "1 - Mang Tik Chiu, Xingqian Xu, Yunchao Wei, Zilong Huang, Alexander Schwing, Robert Brunner,  Hrant Khachatrian, Hovnatan Karapetyan, Ivan Dozier, Greg Rose, David Wilson, Adrian Tudor, Naira Hovakimyan, Thomas S. Huang, and Honghui  Shi. Agriculture-vision: A large aerial image database for agricultural pattern analysis. arXiv preprint arXiv:2001.01306, 2020"
   ]
  }
 ],
 "metadata": {
  "kernelspec": {
   "display_name": "Python 3",
   "language": "python",
   "name": "python3"
  },
  "language_info": {
   "codemirror_mode": {
    "name": "ipython",
    "version": 3
   },
   "file_extension": ".py",
   "mimetype": "text/x-python",
   "name": "python",
   "nbconvert_exporter": "python",
   "pygments_lexer": "ipython3",
   "version": "3.9.0"
  },
  "toc": {
   "base_numbering": 1,
   "nav_menu": {},
   "number_sections": true,
   "sideBar": true,
   "skip_h1_title": false,
   "title_cell": "Table of Contents",
   "title_sidebar": "Contents",
   "toc_cell": false,
   "toc_position": {},
   "toc_section_display": true,
   "toc_window_display": false
  },
  "varInspector": {
   "cols": {
    "lenName": 16,
    "lenType": 16,
    "lenVar": 40
   },
   "kernels_config": {
    "python": {
     "delete_cmd_postfix": "",
     "delete_cmd_prefix": "del ",
     "library": "var_list.py",
     "varRefreshCmd": "print(var_dic_list())"
    },
    "r": {
     "delete_cmd_postfix": ") ",
     "delete_cmd_prefix": "rm(",
     "library": "var_list.r",
     "varRefreshCmd": "cat(var_dic_list()) "
    }
   },
   "types_to_exclude": [
    "module",
    "function",
    "builtin_function_or_method",
    "instance",
    "_Feature"
   ],
   "window_display": false
  }
 },
 "nbformat": 4,
 "nbformat_minor": 4
}

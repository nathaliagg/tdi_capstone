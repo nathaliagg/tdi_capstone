{
 "cells": [
  {
   "cell_type": "markdown",
   "id": "cardiac-organic",
   "metadata": {},
   "source": [
    "# Import libraries"
   ]
  },
  {
   "cell_type": "code",
   "execution_count": 1,
   "id": "fitting-finger",
   "metadata": {},
   "outputs": [],
   "source": [
    "%config Completer.use_jedi = False\n",
    "import os\n",
    "import pandas as pd\n",
    "import numpy as np\n",
    "import cv2\n",
    "from PIL import Image\n",
    "from shutil import copyfile"
   ]
  },
  {
   "cell_type": "markdown",
   "id": "infectious-natural",
   "metadata": {},
   "source": [
    "# Make new directory for single-labeled images"
   ]
  },
  {
   "cell_type": "code",
   "execution_count": 24,
   "id": "brutal-threshold",
   "metadata": {},
   "outputs": [],
   "source": [
    "new_dir = 'partial_dataset'\n",
    "train_images = os.path.join(new_dir, 'train', 'images') # I am using only the validation images\n",
    "\n",
    "if not os.path.exists(new_dir):\n",
    "    for d in [train_images]:\n",
    "        os.makedirs(d)"
   ]
  },
  {
   "cell_type": "markdown",
   "id": "exotic-sharp",
   "metadata": {},
   "source": [
    "# Save images in new directory"
   ]
  },
  {
   "cell_type": "code",
   "execution_count": 47,
   "id": "structural-oregon",
   "metadata": {
    "scrolled": false
   },
   "outputs": [
    {
     "data": {
      "text/html": [
       "<div>\n",
       "<style scoped>\n",
       "    .dataframe tbody tr th:only-of-type {\n",
       "        vertical-align: middle;\n",
       "    }\n",
       "\n",
       "    .dataframe tbody tr th {\n",
       "        vertical-align: top;\n",
       "    }\n",
       "\n",
       "    .dataframe thead th {\n",
       "        text-align: right;\n",
       "    }\n",
       "</style>\n",
       "<table border=\"1\" class=\"dataframe\">\n",
       "  <thead>\n",
       "    <tr style=\"text-align: right;\">\n",
       "      <th></th>\n",
       "      <th>filename</th>\n",
       "      <th>cloud_shadow</th>\n",
       "      <th>double_plant</th>\n",
       "      <th>planter_skip</th>\n",
       "      <th>standing_water</th>\n",
       "      <th>waterway</th>\n",
       "      <th>weed_cluster</th>\n",
       "    </tr>\n",
       "  </thead>\n",
       "  <tbody>\n",
       "    <tr>\n",
       "      <th>0</th>\n",
       "      <td>18X67NLZ2_707-1603-1219-2115.jpg</td>\n",
       "      <td>1.0</td>\n",
       "      <td>0.0</td>\n",
       "      <td>0.0</td>\n",
       "      <td>0.0</td>\n",
       "      <td>0.0</td>\n",
       "      <td>0.0</td>\n",
       "    </tr>\n",
       "    <tr>\n",
       "      <th>1</th>\n",
       "      <td>18X67NLZ2_1219-579-1731-1091.jpg</td>\n",
       "      <td>1.0</td>\n",
       "      <td>0.0</td>\n",
       "      <td>0.0</td>\n",
       "      <td>0.0</td>\n",
       "      <td>0.0</td>\n",
       "      <td>0.0</td>\n",
       "    </tr>\n",
       "    <tr>\n",
       "      <th>2</th>\n",
       "      <td>18X67NLZ2_1219-1091-1731-1603.jpg</td>\n",
       "      <td>1.0</td>\n",
       "      <td>0.0</td>\n",
       "      <td>0.0</td>\n",
       "      <td>0.0</td>\n",
       "      <td>0.0</td>\n",
       "      <td>0.0</td>\n",
       "    </tr>\n",
       "    <tr>\n",
       "      <th>3</th>\n",
       "      <td>18X67NLZ2_1219-1603-1731-2115.jpg</td>\n",
       "      <td>1.0</td>\n",
       "      <td>0.0</td>\n",
       "      <td>0.0</td>\n",
       "      <td>0.0</td>\n",
       "      <td>0.0</td>\n",
       "      <td>0.0</td>\n",
       "    </tr>\n",
       "    <tr>\n",
       "      <th>4</th>\n",
       "      <td>26G8P9NJF_576-4531-1088-5043.jpg</td>\n",
       "      <td>1.0</td>\n",
       "      <td>0.0</td>\n",
       "      <td>0.0</td>\n",
       "      <td>0.0</td>\n",
       "      <td>0.0</td>\n",
       "      <td>0.0</td>\n",
       "    </tr>\n",
       "    <tr>\n",
       "      <th>...</th>\n",
       "      <td>...</td>\n",
       "      <td>...</td>\n",
       "      <td>...</td>\n",
       "      <td>...</td>\n",
       "      <td>...</td>\n",
       "      <td>...</td>\n",
       "      <td>...</td>\n",
       "    </tr>\n",
       "    <tr>\n",
       "      <th>4709</th>\n",
       "      <td>ZKV2W31CE_4040-1334-4552-1846.jpg</td>\n",
       "      <td>0.0</td>\n",
       "      <td>0.0</td>\n",
       "      <td>0.0</td>\n",
       "      <td>0.0</td>\n",
       "      <td>0.0</td>\n",
       "      <td>6.0</td>\n",
       "    </tr>\n",
       "    <tr>\n",
       "      <th>4710</th>\n",
       "      <td>ZKV2W31CE_4087-1662-4599-2174.jpg</td>\n",
       "      <td>0.0</td>\n",
       "      <td>0.0</td>\n",
       "      <td>0.0</td>\n",
       "      <td>0.0</td>\n",
       "      <td>0.0</td>\n",
       "      <td>6.0</td>\n",
       "    </tr>\n",
       "    <tr>\n",
       "      <th>4711</th>\n",
       "      <td>ZKV2W31CE_4107-641-4619-1153.jpg</td>\n",
       "      <td>0.0</td>\n",
       "      <td>0.0</td>\n",
       "      <td>0.0</td>\n",
       "      <td>0.0</td>\n",
       "      <td>0.0</td>\n",
       "      <td>6.0</td>\n",
       "    </tr>\n",
       "    <tr>\n",
       "      <th>4712</th>\n",
       "      <td>ZKV2W31CE_4132-2010-4644-2522.jpg</td>\n",
       "      <td>0.0</td>\n",
       "      <td>0.0</td>\n",
       "      <td>0.0</td>\n",
       "      <td>0.0</td>\n",
       "      <td>0.0</td>\n",
       "      <td>6.0</td>\n",
       "    </tr>\n",
       "    <tr>\n",
       "      <th>4713</th>\n",
       "      <td>ZKV2W31CE_4206-2655-4718-3167.jpg</td>\n",
       "      <td>0.0</td>\n",
       "      <td>0.0</td>\n",
       "      <td>0.0</td>\n",
       "      <td>0.0</td>\n",
       "      <td>0.0</td>\n",
       "      <td>6.0</td>\n",
       "    </tr>\n",
       "  </tbody>\n",
       "</table>\n",
       "<p>4714 rows × 7 columns</p>\n",
       "</div>"
      ],
      "text/plain": [
       "                               filename  cloud_shadow  double_plant  \\\n",
       "0      18X67NLZ2_707-1603-1219-2115.jpg           1.0           0.0   \n",
       "1      18X67NLZ2_1219-579-1731-1091.jpg           1.0           0.0   \n",
       "2     18X67NLZ2_1219-1091-1731-1603.jpg           1.0           0.0   \n",
       "3     18X67NLZ2_1219-1603-1731-2115.jpg           1.0           0.0   \n",
       "4      26G8P9NJF_576-4531-1088-5043.jpg           1.0           0.0   \n",
       "...                                 ...           ...           ...   \n",
       "4709  ZKV2W31CE_4040-1334-4552-1846.jpg           0.0           0.0   \n",
       "4710  ZKV2W31CE_4087-1662-4599-2174.jpg           0.0           0.0   \n",
       "4711   ZKV2W31CE_4107-641-4619-1153.jpg           0.0           0.0   \n",
       "4712  ZKV2W31CE_4132-2010-4644-2522.jpg           0.0           0.0   \n",
       "4713  ZKV2W31CE_4206-2655-4718-3167.jpg           0.0           0.0   \n",
       "\n",
       "      planter_skip  standing_water  waterway  weed_cluster  \n",
       "0              0.0             0.0       0.0           0.0  \n",
       "1              0.0             0.0       0.0           0.0  \n",
       "2              0.0             0.0       0.0           0.0  \n",
       "3              0.0             0.0       0.0           0.0  \n",
       "4              0.0             0.0       0.0           0.0  \n",
       "...            ...             ...       ...           ...  \n",
       "4709           0.0             0.0       0.0           6.0  \n",
       "4710           0.0             0.0       0.0           6.0  \n",
       "4711           0.0             0.0       0.0           6.0  \n",
       "4712           0.0             0.0       0.0           6.0  \n",
       "4713           0.0             0.0       0.0           6.0  \n",
       "\n",
       "[4714 rows x 7 columns]"
      ]
     },
     "execution_count": 47,
     "metadata": {},
     "output_type": "execute_result"
    }
   ],
   "source": [
    "train_singles = pd.read_csv('validation_singles.csv')\n",
    "\n",
    "list_labels = [('cloud_shadow', 1), ('double_plant', 2), ('planter_skip', 3), \n",
    "               ('standing_water',4), ('waterway', 5), ('weed_cluster', 6)]\n",
    "\n",
    "for l in list_labels:\n",
    "    train_singles[l[0]] = train_singles[l[0]].replace(1, l[1])\n",
    "    \n",
    "train_singles['filename'] = train_singles['filename'].str.split('/').str[-1].str[:-4]+'.jpg'\n",
    "    \n",
    "train_singles"
   ]
  },
  {
   "cell_type": "markdown",
   "id": "vietnamese-manner",
   "metadata": {},
   "source": [
    "# Save RGB image to `partial_dataset`"
   ]
  },
  {
   "cell_type": "code",
   "execution_count": 48,
   "id": "metropolitan-demographic",
   "metadata": {
    "code_folding": []
   },
   "outputs": [],
   "source": [
    "def save_images(df):    \n",
    "    \"\"\" Save images. \"\"\"\n",
    "    \n",
    "    for index, row in df.iterrows():\n",
    "        filename = row['filename']\n",
    "        img_source = os.path.join('dataset', 'Agriculture-Vision', 'val', 'images', 'rgb', filename)\n",
    "        img_destination = os.path.join('partial_dataset', 'train', 'images', filename)\n",
    "        copyfile(img_source, img_destination)"
   ]
  },
  {
   "cell_type": "code",
   "execution_count": 49,
   "id": "settled-address",
   "metadata": {},
   "outputs": [],
   "source": [
    "save_images(train_singles)"
   ]
  },
  {
   "cell_type": "markdown",
   "id": "killing-surprise",
   "metadata": {},
   "source": [
    "# Make labels as dataframe"
   ]
  },
  {
   "cell_type": "code",
   "execution_count": 53,
   "id": "practical-identification",
   "metadata": {},
   "outputs": [],
   "source": [
    "labels = train_singles.set_index('filename').sum(axis=1).astype(int)\n",
    "labels.to_csv(os.path.join('partial_dataset', 'train', 'labels_images.csv'))"
   ]
  },
  {
   "cell_type": "code",
   "execution_count": null,
   "id": "sapphire-accounting",
   "metadata": {},
   "outputs": [],
   "source": []
  }
 ],
 "metadata": {
  "kernelspec": {
   "display_name": "Python 3",
   "language": "python",
   "name": "python3"
  },
  "language_info": {
   "codemirror_mode": {
    "name": "ipython",
    "version": 3
   },
   "file_extension": ".py",
   "mimetype": "text/x-python",
   "name": "python",
   "nbconvert_exporter": "python",
   "pygments_lexer": "ipython3",
   "version": "3.6.7"
  },
  "toc": {
   "base_numbering": 1,
   "nav_menu": {},
   "number_sections": true,
   "sideBar": true,
   "skip_h1_title": false,
   "title_cell": "Table of Contents",
   "title_sidebar": "Contents",
   "toc_cell": false,
   "toc_position": {},
   "toc_section_display": true,
   "toc_window_display": false
  },
  "varInspector": {
   "cols": {
    "lenName": 16,
    "lenType": 16,
    "lenVar": 40
   },
   "kernels_config": {
    "python": {
     "delete_cmd_postfix": "",
     "delete_cmd_prefix": "del ",
     "library": "var_list.py",
     "varRefreshCmd": "print(var_dic_list())"
    },
    "r": {
     "delete_cmd_postfix": ") ",
     "delete_cmd_prefix": "rm(",
     "library": "var_list.r",
     "varRefreshCmd": "cat(var_dic_list()) "
    }
   },
   "types_to_exclude": [
    "module",
    "function",
    "builtin_function_or_method",
    "instance",
    "_Feature"
   ],
   "window_display": false
  }
 },
 "nbformat": 4,
 "nbformat_minor": 5
}

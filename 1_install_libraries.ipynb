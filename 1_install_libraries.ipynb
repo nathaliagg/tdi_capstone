{
 "cells": [
  {
   "cell_type": "code",
   "execution_count": 2,
   "metadata": {
    "collapsed": true
   },
   "outputs": [
    {
     "name": "stdout",
     "output_type": "stream",
     "text": [
      "Requirement already satisfied: tensorflow in /Users/grachetng/miniconda3/envs/tdi_env/lib/python3.6/site-packages (1.15.0)\n",
      "Collecting tensorflow\n",
      "  Downloading tensorflow-2.4.1-cp36-cp36m-macosx_10_11_x86_64.whl (173.9 MB)\n",
      "\u001b[K     |████████████████████████████████| 173.9 MB 3.8 kB/s  eta 0:00:01    |██████▌                         | 35.1 MB 22.9 MB/s eta 0:00:07     |███████████▊                    | 63.4 MB 21.5 MB/s eta 0:00:06     |████████████████████▏           | 109.4 MB 15.1 MB/s eta 0:00:05     |█████████████████████▏          | 115.0 MB 15.1 MB/s eta 0:00:04     |█████████████████████████▉      | 140.3 MB 7.5 MB/s eta 0:00:05\n",
      "\u001b[?25hRequirement already satisfied: opt-einsum~=3.3.0 in /Users/grachetng/miniconda3/envs/tdi_env/lib/python3.6/site-packages (from tensorflow) (3.3.0)\n",
      "Requirement already satisfied: wrapt~=1.12.1 in /Users/grachetng/miniconda3/envs/tdi_env/lib/python3.6/site-packages (from tensorflow) (1.12.1)\n",
      "Collecting gast==0.3.3\n",
      "  Using cached gast-0.3.3-py2.py3-none-any.whl (9.7 kB)\n",
      "Requirement already satisfied: numpy~=1.19.2 in /Users/grachetng/miniconda3/envs/tdi_env/lib/python3.6/site-packages (from tensorflow) (1.19.5)\n",
      "Requirement already satisfied: termcolor~=1.1.0 in /Users/grachetng/miniconda3/envs/tdi_env/lib/python3.6/site-packages (from tensorflow) (1.1.0)\n",
      "Collecting tensorboard~=2.4\n",
      "  Downloading tensorboard-2.4.1-py3-none-any.whl (10.6 MB)\n",
      "\u001b[K     |████████████████████████████████| 10.6 MB 13.7 MB/s eta 0:00:01\n",
      "\u001b[?25hCollecting grpcio~=1.32.0\n",
      "  Downloading grpcio-1.32.0-cp36-cp36m-macosx_10_9_x86_64.whl (3.3 MB)\n",
      "\u001b[K     |████████████████████████████████| 3.3 MB 14.1 MB/s eta 0:00:01\n",
      "\u001b[?25hRequirement already satisfied: keras-preprocessing~=1.1.2 in /Users/grachetng/miniconda3/envs/tdi_env/lib/python3.6/site-packages (from tensorflow) (1.1.2)\n",
      "Collecting h5py~=2.10.0\n",
      "  Using cached h5py-2.10.0-cp36-cp36m-macosx_10_6_intel.whl (3.0 MB)\n",
      "Requirement already satisfied: protobuf>=3.9.2 in /Users/grachetng/miniconda3/envs/tdi_env/lib/python3.6/site-packages (from tensorflow) (3.14.0)\n",
      "Collecting flatbuffers~=1.12.0\n",
      "  Downloading flatbuffers-1.12-py2.py3-none-any.whl (15 kB)\n",
      "Requirement already satisfied: wheel~=0.35 in /Users/grachetng/miniconda3/envs/tdi_env/lib/python3.6/site-packages (from tensorflow) (0.36.2)\n",
      "Collecting tensorflow-estimator<2.5.0,>=2.4.0\n",
      "  Downloading tensorflow_estimator-2.4.0-py2.py3-none-any.whl (462 kB)\n",
      "\u001b[K     |████████████████████████████████| 462 kB 11.0 MB/s eta 0:00:01\n",
      "\u001b[?25hRequirement already satisfied: absl-py~=0.10 in /Users/grachetng/miniconda3/envs/tdi_env/lib/python3.6/site-packages (from tensorflow) (0.11.0)\n",
      "Requirement already satisfied: typing-extensions~=3.7.4 in /Users/grachetng/miniconda3/envs/tdi_env/lib/python3.6/site-packages (from tensorflow) (3.7.4.3)\n",
      "Requirement already satisfied: google-pasta~=0.2 in /Users/grachetng/miniconda3/envs/tdi_env/lib/python3.6/site-packages (from tensorflow) (0.2.0)\n",
      "Collecting astunparse~=1.6.3\n",
      "  Using cached astunparse-1.6.3-py2.py3-none-any.whl (12 kB)\n",
      "Requirement already satisfied: six~=1.15.0 in /Users/grachetng/miniconda3/envs/tdi_env/lib/python3.6/site-packages (from tensorflow) (1.15.0)\n",
      "Collecting google-auth-oauthlib<0.5,>=0.4.1\n",
      "  Downloading google_auth_oauthlib-0.4.2-py2.py3-none-any.whl (18 kB)\n",
      "Requirement already satisfied: werkzeug>=0.11.15 in /Users/grachetng/miniconda3/envs/tdi_env/lib/python3.6/site-packages (from tensorboard~=2.4->tensorflow) (0.16.1)\n",
      "Requirement already satisfied: setuptools>=41.0.0 in /Users/grachetng/miniconda3/envs/tdi_env/lib/python3.6/site-packages (from tensorboard~=2.4->tensorflow) (49.6.0.post20210108)\n",
      "Requirement already satisfied: markdown>=2.6.8 in /Users/grachetng/miniconda3/envs/tdi_env/lib/python3.6/site-packages (from tensorboard~=2.4->tensorflow) (3.3.3)\n",
      "Requirement already satisfied: requests<3,>=2.21.0 in /Users/grachetng/miniconda3/envs/tdi_env/lib/python3.6/site-packages (from tensorboard~=2.4->tensorflow) (2.25.1)\n",
      "Collecting google-auth<2,>=1.6.3\n",
      "  Downloading google_auth-1.24.0-py2.py3-none-any.whl (114 kB)\n",
      "\u001b[K     |████████████████████████████████| 114 kB 10.0 MB/s eta 0:00:01\n",
      "\u001b[?25hCollecting tensorboard-plugin-wit>=1.6.0\n",
      "  Downloading tensorboard_plugin_wit-1.8.0-py3-none-any.whl (781 kB)\n",
      "\u001b[K     |████████████████████████████████| 781 kB 16.4 MB/s eta 0:00:01\n",
      "\u001b[?25hCollecting rsa<5,>=3.1.4\n",
      "  Downloading rsa-4.7-py3-none-any.whl (34 kB)\n",
      "Collecting cachetools<5.0,>=2.0.0\n",
      "  Downloading cachetools-4.2.1-py3-none-any.whl (12 kB)\n",
      "Collecting pyasn1-modules>=0.2.1\n",
      "  Using cached pyasn1_modules-0.2.8-py2.py3-none-any.whl (155 kB)\n",
      "Collecting requests-oauthlib>=0.7.0\n",
      "  Using cached requests_oauthlib-1.3.0-py2.py3-none-any.whl (23 kB)\n",
      "Requirement already satisfied: importlib-metadata in /Users/grachetng/miniconda3/envs/tdi_env/lib/python3.6/site-packages (from markdown>=2.6.8->tensorboard~=2.4->tensorflow) (3.4.0)\n",
      "Collecting pyasn1<0.5.0,>=0.4.6\n",
      "  Using cached pyasn1-0.4.8-py2.py3-none-any.whl (77 kB)\n",
      "Requirement already satisfied: certifi>=2017.4.17 in /Users/grachetng/miniconda3/envs/tdi_env/lib/python3.6/site-packages (from requests<3,>=2.21.0->tensorboard~=2.4->tensorflow) (2020.12.5)\n",
      "Requirement already satisfied: idna<3,>=2.5 in /Users/grachetng/miniconda3/envs/tdi_env/lib/python3.6/site-packages (from requests<3,>=2.21.0->tensorboard~=2.4->tensorflow) (2.10)\n",
      "Requirement already satisfied: chardet<5,>=3.0.2 in /Users/grachetng/miniconda3/envs/tdi_env/lib/python3.6/site-packages (from requests<3,>=2.21.0->tensorboard~=2.4->tensorflow) (4.0.0)\n",
      "Requirement already satisfied: urllib3<1.27,>=1.21.1 in /Users/grachetng/miniconda3/envs/tdi_env/lib/python3.6/site-packages (from requests<3,>=2.21.0->tensorboard~=2.4->tensorflow) (1.26.2)\n",
      "Collecting oauthlib>=3.0.0\n",
      "  Using cached oauthlib-3.1.0-py2.py3-none-any.whl (147 kB)\n",
      "Requirement already satisfied: zipp>=0.5 in /Users/grachetng/miniconda3/envs/tdi_env/lib/python3.6/site-packages (from importlib-metadata->markdown>=2.6.8->tensorboard~=2.4->tensorflow) (3.4.0)\n",
      "Installing collected packages: pyasn1, rsa, pyasn1-modules, oauthlib, cachetools, requests-oauthlib, google-auth, tensorboard-plugin-wit, grpcio, google-auth-oauthlib, tensorflow-estimator, tensorboard, h5py, gast, flatbuffers, astunparse, tensorflow\n",
      "  Attempting uninstall: grpcio\n",
      "    Found existing installation: grpcio 1.34.1\n",
      "    Uninstalling grpcio-1.34.1:\n",
      "      Successfully uninstalled grpcio-1.34.1\n",
      "  Attempting uninstall: tensorflow-estimator\n",
      "    Found existing installation: tensorflow-estimator 1.15.1\n",
      "    Uninstalling tensorflow-estimator-1.15.1:\n",
      "      Successfully uninstalled tensorflow-estimator-1.15.1\n",
      "  Attempting uninstall: tensorboard\n",
      "    Found existing installation: tensorboard 1.15.0\n",
      "    Uninstalling tensorboard-1.15.0:\n",
      "      Successfully uninstalled tensorboard-1.15.0\n",
      "  Attempting uninstall: h5py\n",
      "    Found existing installation: h5py 3.1.0\n",
      "    Uninstalling h5py-3.1.0:\n",
      "      Successfully uninstalled h5py-3.1.0\n",
      "  Attempting uninstall: gast\n",
      "    Found existing installation: gast 0.2.2\n",
      "    Uninstalling gast-0.2.2:\n",
      "      Successfully uninstalled gast-0.2.2\n",
      "  Attempting uninstall: tensorflow\n",
      "    Found existing installation: tensorflow 1.15.0\n",
      "    Uninstalling tensorflow-1.15.0:\n",
      "      Successfully uninstalled tensorflow-1.15.0\n",
      "Successfully installed astunparse-1.6.3 cachetools-4.2.1 flatbuffers-1.12 gast-0.3.3 google-auth-1.24.0 google-auth-oauthlib-0.4.2 grpcio-1.32.0 h5py-2.10.0 oauthlib-3.1.0 pyasn1-0.4.8 pyasn1-modules-0.2.8 requests-oauthlib-1.3.0 rsa-4.7 tensorboard-2.4.1 tensorboard-plugin-wit-1.8.0 tensorflow-2.4.1 tensorflow-estimator-2.4.0\n"
     ]
    }
   ],
   "source": [
    "!pip install -U tensorflow"
   ]
  },
  {
   "cell_type": "code",
   "execution_count": 3,
   "metadata": {
    "collapsed": true
   },
   "outputs": [
    {
     "name": "stdout",
     "output_type": "stream",
     "text": [
      "Requirement already satisfied: keras in /Users/grachetng/miniconda3/envs/tdi_env/lib/python3.6/site-packages (2.3.1)\n",
      "Collecting keras\n",
      "  Using cached Keras-2.4.3-py2.py3-none-any.whl (36 kB)\n",
      "Requirement already satisfied: scipy>=0.14 in /Users/grachetng/miniconda3/envs/tdi_env/lib/python3.6/site-packages (from keras) (1.5.3)\n",
      "Requirement already satisfied: pyyaml in /Users/grachetng/miniconda3/envs/tdi_env/lib/python3.6/site-packages (from keras) (5.4.1)\n",
      "Requirement already satisfied: numpy>=1.9.1 in /Users/grachetng/miniconda3/envs/tdi_env/lib/python3.6/site-packages (from keras) (1.19.5)\n",
      "Requirement already satisfied: h5py in /Users/grachetng/miniconda3/envs/tdi_env/lib/python3.6/site-packages (from keras) (2.10.0)\n",
      "Requirement already satisfied: six in /Users/grachetng/miniconda3/envs/tdi_env/lib/python3.6/site-packages (from h5py->keras) (1.15.0)\n",
      "Installing collected packages: keras\n",
      "  Attempting uninstall: keras\n",
      "    Found existing installation: Keras 2.3.1\n",
      "    Uninstalling Keras-2.3.1:\n",
      "      Successfully uninstalled Keras-2.3.1\n",
      "Successfully installed keras-2.4.3\n"
     ]
    }
   ],
   "source": [
    "!pip install -U keras"
   ]
  },
  {
   "cell_type": "code",
   "execution_count": 4,
   "metadata": {
    "collapsed": true
   },
   "outputs": [
    {
     "name": "stdout",
     "output_type": "stream",
     "text": [
      "Collecting opencv-python\n",
      "  Downloading opencv_python-4.5.1.48-cp36-cp36m-macosx_10_13_x86_64.whl (40.3 MB)\n",
      "\u001b[K     |████████████████████████████████| 40.3 MB 14.5 MB/s eta 0:00:01\n",
      "\u001b[?25hRequirement already satisfied: numpy>=1.13.3 in /Users/grachetng/miniconda3/envs/tdi_env/lib/python3.6/site-packages (from opencv-python) (1.19.5)\n",
      "Installing collected packages: opencv-python\n",
      "Successfully installed opencv-python-4.5.1.48\n"
     ]
    }
   ],
   "source": [
    "!pip install opencv-python"
   ]
  },
  {
   "cell_type": "code",
   "execution_count": 6,
   "metadata": {
    "collapsed": true
   },
   "outputs": [
    {
     "name": "stdout",
     "output_type": "stream",
     "text": [
      "Requirement already satisfied: natsort in /Users/grachetng/miniconda3/envs/tdi_env/lib/python3.6/site-packages (7.1.0)\r\n"
     ]
    }
   ],
   "source": [
    "!pip install natsort"
   ]
  },
  {
   "cell_type": "code",
   "execution_count": 5,
   "metadata": {},
   "outputs": [],
   "source": [
    "import os\n",
    "import numpy as np\n",
    "import pandas as pd\n",
    "from sklearn.model_selection import train_test_split\n",
    "import tensorflow as tf\n",
    "import cv2"
   ]
  },
  {
   "cell_type": "markdown",
   "metadata": {},
   "source": [
    "OK!"
   ]
  },
  {
   "cell_type": "code",
   "execution_count": 1,
   "metadata": {},
   "outputs": [],
   "source": [
    "# optional stuff"
   ]
  },
  {
   "cell_type": "code",
   "execution_count": 2,
   "metadata": {
    "collapsed": true
   },
   "outputs": [
    {
     "name": "stdout",
     "output_type": "stream",
     "text": [
      "Collecting jupyter_contrib_nbextensions\n",
      "  Using cached jupyter_contrib_nbextensions-0.5.1-py2.py3-none-any.whl (20.9 MB)\n",
      "Requirement already satisfied: ipython-genutils in /Users/grachetng/miniconda3/envs/tdi_env/lib/python3.6/site-packages (from jupyter_contrib_nbextensions) (0.2.0)\n",
      "Requirement already satisfied: pyyaml in /Users/grachetng/miniconda3/envs/tdi_env/lib/python3.6/site-packages (from jupyter_contrib_nbextensions) (5.4.1)\n",
      "Collecting jupyter-highlight-selected-word>=0.1.1\n",
      "  Using cached jupyter_highlight_selected_word-0.2.0-py2.py3-none-any.whl (11 kB)\n",
      "Requirement already satisfied: notebook>=4.0 in /Users/grachetng/miniconda3/envs/tdi_env/lib/python3.6/site-packages (from jupyter_contrib_nbextensions) (5.7.10)\n",
      "Requirement already satisfied: traitlets>=4.1 in /Users/grachetng/miniconda3/envs/tdi_env/lib/python3.6/site-packages (from jupyter_contrib_nbextensions) (4.3.3)\n",
      "Requirement already satisfied: nbconvert>=4.2 in /Users/grachetng/miniconda3/envs/tdi_env/lib/python3.6/site-packages (from jupyter_contrib_nbextensions) (5.6.1)\n",
      "Collecting jupyter-nbextensions-configurator>=0.4.0\n",
      "  Using cached jupyter_nbextensions_configurator-0.4.1-py2.py3-none-any.whl\n",
      "Requirement already satisfied: tornado in /Users/grachetng/miniconda3/envs/tdi_env/lib/python3.6/site-packages (from jupyter_contrib_nbextensions) (6.1)\n",
      "Collecting lxml\n",
      "  Downloading lxml-4.6.2-cp36-cp36m-macosx_10_9_x86_64.whl (4.6 MB)\n",
      "\u001b[K     |████████████████████████████████| 4.6 MB 5.5 MB/s eta 0:00:01\n",
      "\u001b[?25hCollecting jupyter-contrib-core>=0.3.3\n",
      "  Using cached jupyter_contrib_core-0.3.3-py2.py3-none-any.whl (18 kB)\n",
      "Requirement already satisfied: jupyter-core in /Users/grachetng/miniconda3/envs/tdi_env/lib/python3.6/site-packages (from jupyter_contrib_nbextensions) (4.5.0)\n",
      "Collecting jupyter-latex-envs>=1.3.8\n",
      "  Using cached jupyter_latex_envs-1.4.6-py2.py3-none-any.whl\n",
      "Requirement already satisfied: setuptools in /Users/grachetng/miniconda3/envs/tdi_env/lib/python3.6/site-packages (from jupyter-contrib-core>=0.3.3->jupyter_contrib_nbextensions) (49.6.0.post20210108)\n",
      "Requirement already satisfied: ipython in /Users/grachetng/miniconda3/envs/tdi_env/lib/python3.6/site-packages (from jupyter-latex-envs>=1.3.8->jupyter_contrib_nbextensions) (7.16.1)\n",
      "Requirement already satisfied: jinja2>=2.4 in /Users/grachetng/miniconda3/envs/tdi_env/lib/python3.6/site-packages (from nbconvert>=4.2->jupyter_contrib_nbextensions) (2.11.2)\n",
      "Requirement already satisfied: pygments in /Users/grachetng/miniconda3/envs/tdi_env/lib/python3.6/site-packages (from nbconvert>=4.2->jupyter_contrib_nbextensions) (2.7.4)\n",
      "Requirement already satisfied: defusedxml in /Users/grachetng/miniconda3/envs/tdi_env/lib/python3.6/site-packages (from nbconvert>=4.2->jupyter_contrib_nbextensions) (0.6.0)\n",
      "Requirement already satisfied: testpath in /Users/grachetng/miniconda3/envs/tdi_env/lib/python3.6/site-packages (from nbconvert>=4.2->jupyter_contrib_nbextensions) (0.4.4)\n",
      "Requirement already satisfied: mistune<2,>=0.8.1 in /Users/grachetng/miniconda3/envs/tdi_env/lib/python3.6/site-packages (from nbconvert>=4.2->jupyter_contrib_nbextensions) (0.8.4)\n",
      "Requirement already satisfied: pandocfilters>=1.4.1 in /Users/grachetng/miniconda3/envs/tdi_env/lib/python3.6/site-packages (from nbconvert>=4.2->jupyter_contrib_nbextensions) (1.4.2)\n",
      "Requirement already satisfied: bleach in /Users/grachetng/miniconda3/envs/tdi_env/lib/python3.6/site-packages (from nbconvert>=4.2->jupyter_contrib_nbextensions) (1.4.2)\n",
      "Requirement already satisfied: entrypoints>=0.2.2 in /Users/grachetng/miniconda3/envs/tdi_env/lib/python3.6/site-packages (from nbconvert>=4.2->jupyter_contrib_nbextensions) (0.3)\n",
      "Requirement already satisfied: nbformat>=4.4 in /Users/grachetng/miniconda3/envs/tdi_env/lib/python3.6/site-packages (from nbconvert>=4.2->jupyter_contrib_nbextensions) (5.1.2)\n",
      "Requirement already satisfied: MarkupSafe>=0.23 in /Users/grachetng/miniconda3/envs/tdi_env/lib/python3.6/site-packages (from jinja2>=2.4->nbconvert>=4.2->jupyter_contrib_nbextensions) (1.1.1)\n",
      "Requirement already satisfied: jsonschema!=2.5.0,>=2.4 in /Users/grachetng/miniconda3/envs/tdi_env/lib/python3.6/site-packages (from nbformat>=4.4->nbconvert>=4.2->jupyter_contrib_nbextensions) (3.2.0)\n",
      "Requirement already satisfied: attrs>=17.4.0 in /Users/grachetng/miniconda3/envs/tdi_env/lib/python3.6/site-packages (from jsonschema!=2.5.0,>=2.4->nbformat>=4.4->nbconvert>=4.2->jupyter_contrib_nbextensions) (20.3.0)\n",
      "Requirement already satisfied: pyrsistent>=0.14.0 in /Users/grachetng/miniconda3/envs/tdi_env/lib/python3.6/site-packages (from jsonschema!=2.5.0,>=2.4->nbformat>=4.4->nbconvert>=4.2->jupyter_contrib_nbextensions) (0.17.3)\n",
      "Requirement already satisfied: six>=1.11.0 in /Users/grachetng/miniconda3/envs/tdi_env/lib/python3.6/site-packages (from jsonschema!=2.5.0,>=2.4->nbformat>=4.4->nbconvert>=4.2->jupyter_contrib_nbextensions) (1.15.0)\n",
      "Requirement already satisfied: importlib-metadata in /Users/grachetng/miniconda3/envs/tdi_env/lib/python3.6/site-packages (from jsonschema!=2.5.0,>=2.4->nbformat>=4.4->nbconvert>=4.2->jupyter_contrib_nbextensions) (3.4.0)\n",
      "Requirement already satisfied: terminado>=0.8.1 in /Users/grachetng/miniconda3/envs/tdi_env/lib/python3.6/site-packages (from notebook>=4.0->jupyter_contrib_nbextensions) (0.9.2)\n",
      "Requirement already satisfied: ipykernel in /Users/grachetng/miniconda3/envs/tdi_env/lib/python3.6/site-packages (from notebook>=4.0->jupyter_contrib_nbextensions) (5.1.0)\n",
      "Requirement already satisfied: prometheus-client in /Users/grachetng/miniconda3/envs/tdi_env/lib/python3.6/site-packages (from notebook>=4.0->jupyter_contrib_nbextensions) (0.9.0)\n",
      "Requirement already satisfied: jupyter-client>=5.2.0 in /Users/grachetng/miniconda3/envs/tdi_env/lib/python3.6/site-packages (from notebook>=4.0->jupyter_contrib_nbextensions) (5.3.3)\n",
      "Requirement already satisfied: Send2Trash in /Users/grachetng/miniconda3/envs/tdi_env/lib/python3.6/site-packages (from notebook>=4.0->jupyter_contrib_nbextensions) (1.5.0)\n",
      "Requirement already satisfied: pyzmq>=17 in /Users/grachetng/miniconda3/envs/tdi_env/lib/python3.6/site-packages (from notebook>=4.0->jupyter_contrib_nbextensions) (21.0.1)\n",
      "Requirement already satisfied: python-dateutil>=2.1 in /Users/grachetng/miniconda3/envs/tdi_env/lib/python3.6/site-packages (from jupyter-client>=5.2.0->notebook>=4.0->jupyter_contrib_nbextensions) (2.8.1)\n",
      "Requirement already satisfied: ptyprocess in /Users/grachetng/miniconda3/envs/tdi_env/lib/python3.6/site-packages (from terminado>=0.8.1->notebook>=4.0->jupyter_contrib_nbextensions) (0.7.0)\n",
      "Requirement already satisfied: decorator in /Users/grachetng/miniconda3/envs/tdi_env/lib/python3.6/site-packages (from traitlets>=4.1->jupyter_contrib_nbextensions) (4.4.2)\n",
      "Requirement already satisfied: html5lib>=0.999 in /Users/grachetng/miniconda3/envs/tdi_env/lib/python3.6/site-packages (from bleach->nbconvert>=4.2->jupyter_contrib_nbextensions) (1.1)\n",
      "Requirement already satisfied: webencodings in /Users/grachetng/miniconda3/envs/tdi_env/lib/python3.6/site-packages (from html5lib>=0.999->bleach->nbconvert>=4.2->jupyter_contrib_nbextensions) (0.5.1)\n",
      "Requirement already satisfied: typing-extensions>=3.6.4 in /Users/grachetng/miniconda3/envs/tdi_env/lib/python3.6/site-packages (from importlib-metadata->jsonschema!=2.5.0,>=2.4->nbformat>=4.4->nbconvert>=4.2->jupyter_contrib_nbextensions) (3.7.4.3)\n",
      "Requirement already satisfied: zipp>=0.5 in /Users/grachetng/miniconda3/envs/tdi_env/lib/python3.6/site-packages (from importlib-metadata->jsonschema!=2.5.0,>=2.4->nbformat>=4.4->nbconvert>=4.2->jupyter_contrib_nbextensions) (3.4.0)\n",
      "Requirement already satisfied: pickleshare in /Users/grachetng/miniconda3/envs/tdi_env/lib/python3.6/site-packages (from ipython->jupyter-latex-envs>=1.3.8->jupyter_contrib_nbextensions) (0.7.5)\n",
      "Requirement already satisfied: appnope in /Users/grachetng/miniconda3/envs/tdi_env/lib/python3.6/site-packages (from ipython->jupyter-latex-envs>=1.3.8->jupyter_contrib_nbextensions) (0.1.2)\n",
      "Requirement already satisfied: prompt-toolkit!=3.0.0,!=3.0.1,<3.1.0,>=2.0.0 in /Users/grachetng/miniconda3/envs/tdi_env/lib/python3.6/site-packages (from ipython->jupyter-latex-envs>=1.3.8->jupyter_contrib_nbextensions) (3.0.14)\n",
      "Requirement already satisfied: backcall in /Users/grachetng/miniconda3/envs/tdi_env/lib/python3.6/site-packages (from ipython->jupyter-latex-envs>=1.3.8->jupyter_contrib_nbextensions) (0.2.0)\n",
      "Requirement already satisfied: jedi>=0.10 in /Users/grachetng/miniconda3/envs/tdi_env/lib/python3.6/site-packages (from ipython->jupyter-latex-envs>=1.3.8->jupyter_contrib_nbextensions) (0.18.0)\n",
      "Requirement already satisfied: pexpect in /Users/grachetng/miniconda3/envs/tdi_env/lib/python3.6/site-packages (from ipython->jupyter-latex-envs>=1.3.8->jupyter_contrib_nbextensions) (4.8.0)\n",
      "Requirement already satisfied: parso<0.9.0,>=0.8.0 in /Users/grachetng/miniconda3/envs/tdi_env/lib/python3.6/site-packages (from jedi>=0.10->ipython->jupyter-latex-envs>=1.3.8->jupyter_contrib_nbextensions) (0.8.1)\n"
     ]
    },
    {
     "name": "stdout",
     "output_type": "stream",
     "text": [
      "Requirement already satisfied: wcwidth in /Users/grachetng/miniconda3/envs/tdi_env/lib/python3.6/site-packages (from prompt-toolkit!=3.0.0,!=3.0.1,<3.1.0,>=2.0.0->ipython->jupyter-latex-envs>=1.3.8->jupyter_contrib_nbextensions) (0.2.5)\n",
      "Installing collected packages: jupyter-contrib-core, lxml, jupyter-nbextensions-configurator, jupyter-latex-envs, jupyter-highlight-selected-word, jupyter-contrib-nbextensions\n",
      "Successfully installed jupyter-contrib-core-0.3.3 jupyter-contrib-nbextensions-0.5.1 jupyter-highlight-selected-word-0.2.0 jupyter-latex-envs-1.4.6 jupyter-nbextensions-configurator-0.4.1 lxml-4.6.2\n"
     ]
    }
   ],
   "source": [
    "!pip install jupyter_contrib_nbextensions"
   ]
  },
  {
   "cell_type": "code",
   "execution_count": 1,
   "metadata": {},
   "outputs": [
    {
     "name": "stdout",
     "output_type": "stream",
     "text": [
      "Collecting yapf\n",
      "  Using cached yapf-0.30.0-py2.py3-none-any.whl (190 kB)\n",
      "Installing collected packages: yapf\n",
      "Successfully installed yapf-0.30.0\n"
     ]
    }
   ],
   "source": [
    "!pip install yapf"
   ]
  },
  {
   "cell_type": "code",
   "execution_count": 1,
   "metadata": {
    "collapsed": true
   },
   "outputs": [
    {
     "name": "stdout",
     "output_type": "stream",
     "text": [
      "Collecting numpydoc\n",
      "  Downloading numpydoc-1.1.0-py3-none-any.whl (47 kB)\n",
      "\u001b[K     |████████████████████████████████| 47 kB 1.1 MB/s eta 0:00:01\n",
      "\u001b[?25hCollecting sphinx>=1.6.5\n",
      "  Downloading Sphinx-3.4.3-py3-none-any.whl (2.9 MB)\n",
      "\u001b[K     |████████████████████████████████| 2.9 MB 1.6 MB/s eta 0:00:01\n",
      "\u001b[?25hRequirement already satisfied: Jinja2>=2.3 in /Users/grachetng/miniconda3/envs/tdi_env/lib/python3.6/site-packages (from numpydoc) (2.11.2)\n",
      "Requirement already satisfied: MarkupSafe>=0.23 in /Users/grachetng/miniconda3/envs/tdi_env/lib/python3.6/site-packages (from Jinja2>=2.3->numpydoc) (1.1.1)\n",
      "Collecting sphinxcontrib-serializinghtml\n",
      "  Downloading sphinxcontrib_serializinghtml-1.1.4-py2.py3-none-any.whl (89 kB)\n",
      "\u001b[K     |████████████████████████████████| 89 kB 5.7 MB/s eta 0:00:01\n",
      "\u001b[?25hCollecting sphinxcontrib-jsmath\n",
      "  Downloading sphinxcontrib_jsmath-1.0.1-py2.py3-none-any.whl (5.1 kB)\n",
      "Collecting sphinxcontrib-devhelp\n",
      "  Downloading sphinxcontrib_devhelp-1.0.2-py2.py3-none-any.whl (84 kB)\n",
      "\u001b[K     |████████████████████████████████| 84 kB 5.0 MB/s eta 0:00:011\n",
      "\u001b[?25hRequirement already satisfied: requests>=2.5.0 in /Users/grachetng/miniconda3/envs/tdi_env/lib/python3.6/site-packages (from sphinx>=1.6.5->numpydoc) (2.25.1)\n",
      "Collecting snowballstemmer>=1.1\n",
      "  Downloading snowballstemmer-2.1.0-py2.py3-none-any.whl (93 kB)\n",
      "\u001b[K     |████████████████████████████████| 93 kB 3.0 MB/s eta 0:00:01\n",
      "\u001b[?25hRequirement already satisfied: packaging in /Users/grachetng/miniconda3/envs/tdi_env/lib/python3.6/site-packages (from sphinx>=1.6.5->numpydoc) (20.8)\n",
      "Collecting alabaster<0.8,>=0.7\n",
      "  Downloading alabaster-0.7.12-py2.py3-none-any.whl (14 kB)\n",
      "Collecting docutils>=0.12\n",
      "  Using cached docutils-0.16-py2.py3-none-any.whl (548 kB)\n",
      "Collecting sphinxcontrib-applehelp\n",
      "  Downloading sphinxcontrib_applehelp-1.0.2-py2.py3-none-any.whl (121 kB)\n",
      "\u001b[K     |████████████████████████████████| 121 kB 7.1 MB/s eta 0:00:01\n",
      "\u001b[?25hRequirement already satisfied: Pygments>=2.0 in /Users/grachetng/miniconda3/envs/tdi_env/lib/python3.6/site-packages (from sphinx>=1.6.5->numpydoc) (2.7.4)\n",
      "Collecting sphinxcontrib-htmlhelp\n",
      "  Downloading sphinxcontrib_htmlhelp-1.0.3-py2.py3-none-any.whl (96 kB)\n",
      "\u001b[K     |████████████████████████████████| 96 kB 5.0 MB/s eta 0:00:011\n",
      "\u001b[?25hRequirement already satisfied: setuptools in /Users/grachetng/miniconda3/envs/tdi_env/lib/python3.6/site-packages (from sphinx>=1.6.5->numpydoc) (49.6.0.post20210108)\n",
      "Collecting sphinxcontrib-qthelp\n",
      "  Downloading sphinxcontrib_qthelp-1.0.3-py2.py3-none-any.whl (90 kB)\n",
      "\u001b[K     |████████████████████████████████| 90 kB 7.5 MB/s  eta 0:00:01\n",
      "\u001b[?25hCollecting babel>=1.3\n",
      "  Downloading Babel-2.9.0-py2.py3-none-any.whl (8.8 MB)\n",
      "\u001b[K     |████████████████████████████████| 8.8 MB 2.0 MB/s eta 0:00:01\n",
      "\u001b[?25hCollecting imagesize\n",
      "  Downloading imagesize-1.2.0-py2.py3-none-any.whl (4.8 kB)\n",
      "Requirement already satisfied: pytz>=2015.7 in /Users/grachetng/miniconda3/envs/tdi_env/lib/python3.6/site-packages (from babel>=1.3->sphinx>=1.6.5->numpydoc) (2020.5)\n",
      "Requirement already satisfied: urllib3<1.27,>=1.21.1 in /Users/grachetng/miniconda3/envs/tdi_env/lib/python3.6/site-packages (from requests>=2.5.0->sphinx>=1.6.5->numpydoc) (1.26.2)\n",
      "Requirement already satisfied: chardet<5,>=3.0.2 in /Users/grachetng/miniconda3/envs/tdi_env/lib/python3.6/site-packages (from requests>=2.5.0->sphinx>=1.6.5->numpydoc) (4.0.0)\n",
      "Requirement already satisfied: idna<3,>=2.5 in /Users/grachetng/miniconda3/envs/tdi_env/lib/python3.6/site-packages (from requests>=2.5.0->sphinx>=1.6.5->numpydoc) (2.10)\n",
      "Requirement already satisfied: certifi>=2017.4.17 in /Users/grachetng/miniconda3/envs/tdi_env/lib/python3.6/site-packages (from requests>=2.5.0->sphinx>=1.6.5->numpydoc) (2020.12.5)\n",
      "Requirement already satisfied: pyparsing>=2.0.2 in /Users/grachetng/miniconda3/envs/tdi_env/lib/python3.6/site-packages (from packaging->sphinx>=1.6.5->numpydoc) (2.4.7)\n",
      "Installing collected packages: sphinxcontrib-serializinghtml, sphinxcontrib-qthelp, sphinxcontrib-jsmath, sphinxcontrib-htmlhelp, sphinxcontrib-devhelp, sphinxcontrib-applehelp, snowballstemmer, imagesize, docutils, babel, alabaster, sphinx, numpydoc\n",
      "Successfully installed alabaster-0.7.12 babel-2.9.0 docutils-0.16 imagesize-1.2.0 numpydoc-1.1.0 snowballstemmer-2.1.0 sphinx-3.4.3 sphinxcontrib-applehelp-1.0.2 sphinxcontrib-devhelp-1.0.2 sphinxcontrib-htmlhelp-1.0.3 sphinxcontrib-jsmath-1.0.1 sphinxcontrib-qthelp-1.0.3 sphinxcontrib-serializinghtml-1.1.4\n"
     ]
    }
   ],
   "source": [
    "!pip install numpydoc"
   ]
  },
  {
   "cell_type": "code",
   "execution_count": 1,
   "metadata": {
    "collapsed": true
   },
   "outputs": [
    {
     "name": "stdout",
     "output_type": "stream",
     "text": [
      "Collecting pyreadline\n",
      "  Downloading pyreadline-2.1.zip (109 kB)\n",
      "\u001b[K     |████████████████████████████████| 109 kB 1.3 MB/s eta 0:00:01    |████████████                    | 40 kB 1.3 MB/s eta 0:00:01\n",
      "\u001b[?25hBuilding wheels for collected packages: pyreadline\n",
      "  Building wheel for pyreadline (setup.py) ... \u001b[?25ldone\n",
      "\u001b[?25h  Created wheel for pyreadline: filename=pyreadline-2.1-py3-none-any.whl size=93833 sha256=d7c9e012fc4bfb663da87c7f59e51e99aaa77689d8979f770b29695bad96cb22\n",
      "  Stored in directory: /Users/grachetng/Library/Caches/pip/wheels/9c/d5/fa/c30bc1a04703cc6753dc9eea000865417a5d4d70331c77fc2e\n",
      "Successfully built pyreadline\n",
      "Installing collected packages: pyreadline\n",
      "Successfully installed pyreadline-2.1\n"
     ]
    }
   ],
   "source": [
    "!pip install pyreadline"
   ]
  },
  {
   "cell_type": "code",
   "execution_count": null,
   "metadata": {},
   "outputs": [],
   "source": []
  }
 ],
 "metadata": {
  "kernelspec": {
   "display_name": "Python 3",
   "language": "python",
   "name": "python3"
  },
  "language_info": {
   "codemirror_mode": {
    "name": "ipython",
    "version": 3
   },
   "file_extension": ".py",
   "mimetype": "text/x-python",
   "name": "python",
   "nbconvert_exporter": "python",
   "pygments_lexer": "ipython3",
   "version": "3.6.7"
  },
  "toc": {
   "base_numbering": 1,
   "nav_menu": {},
   "number_sections": true,
   "sideBar": true,
   "skip_h1_title": false,
   "title_cell": "Table of Contents",
   "title_sidebar": "Contents",
   "toc_cell": false,
   "toc_position": {},
   "toc_section_display": true,
   "toc_window_display": false
  },
  "varInspector": {
   "cols": {
    "lenName": 16,
    "lenType": 16,
    "lenVar": 40
   },
   "kernels_config": {
    "python": {
     "delete_cmd_postfix": "",
     "delete_cmd_prefix": "del ",
     "library": "var_list.py",
     "varRefreshCmd": "print(var_dic_list())"
    },
    "r": {
     "delete_cmd_postfix": ") ",
     "delete_cmd_prefix": "rm(",
     "library": "var_list.r",
     "varRefreshCmd": "cat(var_dic_list()) "
    }
   },
   "types_to_exclude": [
    "module",
    "function",
    "builtin_function_or_method",
    "instance",
    "_Feature"
   ],
   "window_display": false
  }
 },
 "nbformat": 4,
 "nbformat_minor": 4
}
